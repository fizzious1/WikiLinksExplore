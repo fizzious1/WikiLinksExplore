{
  "nbformat": 4,
  "nbformat_minor": 0,
  "metadata": {
    "colab": {
      "provenance": [],
      "authorship_tag": "ABX9TyPzeYni6lA7xnIl45fRa8DE",
      "include_colab_link": true
    },
    "kernelspec": {
      "name": "python3",
      "display_name": "Python 3"
    },
    "language_info": {
      "name": "python"
    }
  },
  "cells": [
    {
      "cell_type": "markdown",
      "metadata": {
        "id": "view-in-github",
        "colab_type": "text"
      },
      "source": [
        "<a href=\"https://colab.research.google.com/github/fizzious1/WikiLinksExplore/blob/main/Wiki.ipynb\" target=\"_parent\"><img src=\"https://colab.research.google.com/assets/colab-badge.svg\" alt=\"Open In Colab\"/></a>"
      ]
    },
    {
      "cell_type": "code",
      "execution_count": null,
      "metadata": {
        "collapsed": true,
        "id": "RD3LUd9EFXgo"
      },
      "outputs": [],
      "source": [
        "!pip install wikipedia-api networkx matplotlib"
      ]
    },
    {
      "cell_type": "code",
      "source": [
        "!apt-get install git"
      ],
      "metadata": {
        "colab": {
          "base_uri": "https://localhost:8080/"
        },
        "id": "EbKeLqQ0bRFQ",
        "outputId": "d8a4d294-00e3-40a8-e6fb-430139aa0154"
      },
      "execution_count": 568,
      "outputs": [
        {
          "output_type": "stream",
          "name": "stdout",
          "text": [
            "Reading package lists... Done\n",
            "Building dependency tree... Done\n",
            "Reading state information... Done\n",
            "git is already the newest version (1:2.34.1-1ubuntu1.11).\n",
            "0 upgraded, 0 newly installed, 0 to remove and 45 not upgraded.\n"
          ]
        }
      ]
    },
    {
      "cell_type": "code",
      "source": [
        "!git clone https://github.com/fizzious1/WikiLinksExplore"
      ],
      "metadata": {
        "colab": {
          "base_uri": "https://localhost:8080/"
        },
        "id": "OmBjTIo6bWZ2",
        "outputId": "5f6f3e51-afab-445c-aa7a-255b6e4f3a3e"
      },
      "execution_count": 569,
      "outputs": [
        {
          "output_type": "stream",
          "name": "stdout",
          "text": [
            "Cloning into 'WikiLinksExplore'...\n",
            "remote: Enumerating objects: 3, done.\u001b[K\n",
            "remote: Counting objects: 100% (3/3), done.\u001b[K\n",
            "remote: Total 3 (delta 0), reused 0 (delta 0), pack-reused 0 (from 0)\u001b[K\n",
            "Receiving objects: 100% (3/3), done.\n"
          ]
        }
      ]
    },
    {
      "cell_type": "code",
      "source": [
        "%cd WikiLinksExplore\n"
      ],
      "metadata": {
        "colab": {
          "base_uri": "https://localhost:8080/"
        },
        "id": "16O_N5_CbfEP",
        "outputId": "684f86c5-e82c-4e44-8379-fe526592f3fa"
      },
      "execution_count": 570,
      "outputs": [
        {
          "output_type": "stream",
          "name": "stdout",
          "text": [
            "/content/WikiLinksExplore\n"
          ]
        }
      ]
    },
    {
      "cell_type": "code",
      "source": [
        "  git config user.email \"arieleingal121@gmail.com\"\n",
        "  git config user.name \"fizzious1\""
      ],
      "metadata": {
        "colab": {
          "base_uri": "https://localhost:8080/",
          "height": 106
        },
        "id": "Um1V7qazcKH-",
        "outputId": "2a3427a0-e98c-411e-aadf-233ac8d096e3"
      },
      "execution_count": 573,
      "outputs": [
        {
          "output_type": "error",
          "ename": "SyntaxError",
          "evalue": "invalid syntax (<ipython-input-573-f8de1d984f6f>, line 1)",
          "traceback": [
            "\u001b[0;36m  File \u001b[0;32m\"<ipython-input-573-f8de1d984f6f>\"\u001b[0;36m, line \u001b[0;32m1\u001b[0m\n\u001b[0;31m    git config user.email \"arieleingal121@gmail.com\"\u001b[0m\n\u001b[0m        ^\u001b[0m\n\u001b[0;31mSyntaxError\u001b[0m\u001b[0;31m:\u001b[0m invalid syntax\n"
          ]
        }
      ]
    },
    {
      "cell_type": "code",
      "source": [
        "!git add .\n",
        "!git commit -m \"Initial commit from Google Colab\"\n"
      ],
      "metadata": {
        "colab": {
          "base_uri": "https://localhost:8080/"
        },
        "id": "VDc9-Tv8b18H",
        "outputId": "57e63f79-a99b-44f2-9458-80c14cbf8439"
      },
      "execution_count": 574,
      "outputs": [
        {
          "output_type": "stream",
          "name": "stdout",
          "text": [
            "Author identity unknown\n",
            "\n",
            "*** Please tell me who you are.\n",
            "\n",
            "Run\n",
            "\n",
            "  git config --global user.email \"you@example.com\"\n",
            "  git config --global user.name \"Your Name\"\n",
            "\n",
            "to set your account's default identity.\n",
            "Omit --global to set the identity only in this repository.\n",
            "\n",
            "fatal: unable to auto-detect email address (got 'root@28bc5adbc28b.(none)')\n"
          ]
        }
      ]
    },
    {
      "cell_type": "code",
      "source": [
        "import wikipediaapi\n",
        "import networkx as nx\n",
        "import matplotlib.pyplot as plt\n",
        "from sortedcontainers import SortedList, SortedSet, SortedDict\n",
        "import time\n",
        "\n",
        "user_agent = 'WikiLinkExplorer/1.0 (mailto:arieleingal121@gmail.com) Python/3.10'\n",
        "wiki_wiki = wikipediaapi.Wikipedia(user_agent)"
      ],
      "metadata": {
        "id": "GVxaG2c0FddX"
      },
      "execution_count": 551,
      "outputs": []
    },
    {
      "cell_type": "code",
      "source": [
        "garbage_links_table = []\n",
        "paths_table = SortedDict()\n",
        "first_six_of_page_table = SortedDict()\n",
        "big_six_table = SortedDict()\n",
        "succesful_paths = 0\n",
        "failed_paths = 0"
      ],
      "metadata": {
        "id": "3kZ3xrbHKTv5"
      },
      "execution_count": 567,
      "outputs": []
    },
    {
      "cell_type": "code",
      "source": [
        "import requests\n",
        "from bs4 import BeautifulSoup\n",
        "\n",
        "def get_first_six_links(page_name):\n",
        "    url = f\"https://en.wikipedia.org/w/api.php\"\n",
        "    params = {\n",
        "        \"action\": \"parse\",\n",
        "        \"page\": page_name,\n",
        "        \"prop\": \"text\",\n",
        "        \"format\": \"json\",\n",
        "        \"section\": 0\n",
        "    }\n",
        "    response = requests.get(url, params=params)\n",
        "    data = response.json()\n",
        "\n",
        "    if \"error\" in data:\n",
        "        print(f\"Error retrieving page: {data['error']['info']}\")\n",
        "        return []\n",
        "\n",
        "    html_content = data[\"parse\"][\"text\"][\"*\"]\n",
        "    soup = BeautifulSoup(html_content, \"html.parser\")\n",
        "\n",
        "    non_italic_links = []\n",
        "\n",
        "    # Find the first six non-italic, non-parentheses, unique links in the content\n",
        "    for p_tag in soup.find_all(\"p\"):\n",
        "        text = p_tag.get_text()  # Get the text of the paragraph\n",
        "        inside_parentheses = False\n",
        "\n",
        "        for a_tag in p_tag.find_all(\"a\", href=True):\n",
        "            # Track whether we're inside parentheses\n",
        "            link_position = text.find(a_tag.get_text())\n",
        "            before_link_text = text[:link_position]\n",
        "            if '(' in before_link_text and ')' not in before_link_text:\n",
        "                inside_parentheses = True\n",
        "            if ')' in before_link_text:\n",
        "                inside_parentheses = False\n",
        "\n",
        "            # Check if the link meets all criteria\n",
        "            href = a_tag[\"href\"]\n",
        "            if (\n",
        "                a_tag.find_parent([\"i\", \"em\"]) is None and  # Not italic\n",
        "                not inside_parentheses and  # Not in parentheses\n",
        "                href.startswith(\"/wiki/\") and  # Valid Wikipedia link\n",
        "                not href.startswith(\"/wiki/Special:\") and  # Not a special page\n",
        "                \"#\" not in href and  # Exclude links that lead to a section within the same page\n",
        "                ':' not in href  # Exclude links with a colon (e.g., Category:, File:)\n",
        "            ):\n",
        "                link_name = href.split(\"/wiki/\")[1].replace('_', ' ')\n",
        "                non_italic_links.append(link_name)\n",
        "\n",
        "                # Stop once we have six links\n",
        "                if len(non_italic_links) >= 6:\n",
        "                    return non_italic_links\n",
        "\n",
        "    return non_italic_links  # Return the list, even if it has fewer than 6 links\n",
        "\n",
        "# Example usage\n",
        "first_six_non_italic_non_parentheses_unique_links = get_first_six_links(\"Computer science\")\n",
        "print(f\"The first six non-italic, non-parentheses, unique links on the 'Computer science' page are: {first_six_non_italic_non_parentheses_unique_links}\")\n"
      ],
      "metadata": {
        "colab": {
          "base_uri": "https://localhost:8080/"
        },
        "id": "2yX1bwA08qaH",
        "outputId": "28d2b2ae-58ef-4714-bb44-e95501de643e"
      },
      "execution_count": 416,
      "outputs": [
        {
          "output_type": "stream",
          "name": "stdout",
          "text": [
            "The first six non-italic, non-parentheses, unique links on the 'Computer science' page are: ['Computation', 'Information', 'Automation', 'Theoretical computer science', 'Applied science', 'Computer architecture']\n"
          ]
        }
      ]
    },
    {
      "cell_type": "code",
      "source": [
        "def save_first_six_of_page(page_name):\n",
        "  first_six_of_page_table[page_name] = get_first_six_links(page_name)[:6]"
      ],
      "metadata": {
        "id": "kShHIjHzFgFP"
      },
      "execution_count": 458,
      "outputs": []
    },
    {
      "cell_type": "code",
      "source": [
        "def update_big_six_table(page):\n",
        "    page_name = page.title\n",
        "    if first_six_of_page_table.__contains__(page_name) == False:\n",
        "      #first_six_of_page_table[page_name] = []\n",
        "      save_first_six_of_page(page_name)\n",
        "\n",
        "    first_six = first_six_of_page_table[page_name]\n",
        "    #first_six = get_first_10_links(page_name)[:6]\n",
        "    counter = 0\n",
        "    for link in first_six:\n",
        "      #title = link.title()\n",
        "      if big_six_table.__contains__(link) == False:\n",
        "        big_six_table[link] = [0] * 6\n",
        "      big_six_table[link][counter] += 1\n",
        "      counter += 1\n",
        "\n",
        "\n"
      ],
      "metadata": {
        "id": "mYoBRhhmOiw1"
      },
      "execution_count": 371,
      "outputs": []
    },
    {
      "cell_type": "code",
      "source": [
        "def update_paths_table(page, page_to_add):\n",
        "  page_name = page.title\n",
        "  if paths_table.__contains__(page_name) == False:\n",
        "    paths_table[page_name] = []\n",
        "  first_six = get_first_six_links(page_to_add.title)[:6]\n",
        "  if first_six:\n",
        "    next_page = first_six[0]\n",
        "    paths_table[page_name].append(next_page)\n"
      ],
      "metadata": {
        "id": "-p5JhmaSWo_v"
      },
      "execution_count": 559,
      "outputs": []
    },
    {
      "cell_type": "code",
      "source": [
        "\n",
        "def find_path(initial_page):\n",
        "    global succesful_paths\n",
        "    global failed_paths\n",
        "    current_page = initial_page\n",
        "    path = []\n",
        "    while current_page.title != 'Philosophy':\n",
        "        path.append(current_page.title)\n",
        "        update_big_six_table(current_page)\n",
        "        update_paths_table(initial_page, current_page)\n",
        "        print(first_six_of_page_table)\n",
        "        if current_page.title in first_six_of_page_table:\n",
        "            if first_six_of_page_table[current_page.title]:\n",
        "             next_page_title = first_six_of_page_table[current_page.title][0]\n",
        "             current_page = wiki_wiki.page(next_page_title)\n",
        "             time.sleep(1)  # Wait for 1 second\n",
        "            else:\n",
        "              garbage_links_table.append(path)\n",
        "              print(\"This Path Is Dead End\")\n",
        "              failed_paths += 1\n",
        "              break\n",
        "        else:\n",
        "            break\n",
        "    print(\"Found my way to Philosophy!\")\n",
        "    succesful_paths += 1"
      ],
      "metadata": {
        "id": "Ngtvddd0Tr4v"
      },
      "execution_count": 560,
      "outputs": []
    },
    {
      "cell_type": "markdown",
      "source": [
        "----TESTS----"
      ],
      "metadata": {
        "id": "Q1trWBzDTX7G"
      }
    },
    {
      "cell_type": "code",
      "source": [
        "print(paths_table)\n",
        "print(first_six_of_page_table)\n",
        "print(big_six_table)"
      ],
      "metadata": {
        "colab": {
          "base_uri": "https://localhost:8080/"
        },
        "id": "X1a_yWm5a92Y",
        "outputId": "e2fae53a-dada-49e7-8e95-1d00e5beff49"
      },
      "execution_count": 507,
      "outputs": [
        {
          "output_type": "stream",
          "name": "stdout",
          "text": [
            "SortedDict({})\n",
            "SortedDict({})\n",
            "SortedDict({})\n"
          ]
        }
      ]
    },
    {
      "cell_type": "code",
      "source": [
        "def print_paths_table(paths_table):\n",
        "    print(\"Paths Table:\")\n",
        "    for key in paths_table:\n",
        "        # Correctly get the title of each page\n",
        "        path_string = \"->\".join([page.title() for page in paths_table[key]])\n",
        "        print(f\"{key}: {path_string}\")\n",
        "\n",
        "# Example usage with your paths_table\n",
        "print_paths_table(paths_table)\n"
      ],
      "metadata": {
        "colab": {
          "base_uri": "https://localhost:8080/"
        },
        "id": "i84zfJPPQI1u",
        "outputId": "e37fc545-2cad-40c1-9c2a-d204aa4aac6d"
      },
      "execution_count": 566,
      "outputs": [
        {
          "output_type": "stream",
          "name": "stdout",
          "text": [
            "Paths Table:\n",
            "/pol/: Political Discussion\n",
            "1776 Returns: Proud Boys->Far-Right Politics->Ultraconservatism->Conservative\n",
            "1928 German federal election: \n"
          ]
        }
      ]
    },
    {
      "cell_type": "code",
      "source": [
        "print(\"\\nGarbage Links Table:\")\n",
        "print(garbage_links_table)"
      ],
      "metadata": {
        "colab": {
          "base_uri": "https://localhost:8080/"
        },
        "id": "IuIyTz7CQbH-",
        "outputId": "99ef9b6e-70cb-4846-fe00-cf55cf1548d5"
      },
      "execution_count": 556,
      "outputs": [
        {
          "output_type": "stream",
          "name": "stdout",
          "text": [
            "\n",
            "Garbage Links Table:\n",
            "[['/pol/', 'Political discussion'], ['1776 Returns', 'Proud Boys', 'Far-right politics', 'Ultraconservatism', 'Conservative'], ['1928 German federal election', 'Fourth Marx cabinet', 'Wilhelm Marx', 'Centre Party (Germany)', 'Christian democracy', 'Political ideology'], ['1929 German referendum'], ['1930 German federal election', 'First Br%C3%BCning cabinet']]\n"
          ]
        }
      ]
    },
    {
      "cell_type": "code",
      "source": [
        "print(\"Paths Table:\")\n",
        "for key in paths_table:\n",
        "  print(key)\n",
        "  for path in paths_table[key]:\n",
        "    print(path.title())\n",
        "print(\"\\nFirst Six of Page Table:\")\n",
        "print(first_six_of_page_table)\n",
        "print(\"\\nBig Six Table:\")\n",
        "print(big_six_table)\n",
        "print(\"\\nGarbage Links Table:\")\n",
        "print(garbage_links_table)\n",
        "print(\"\\nSuccsessful Paths:\")\n",
        "print(succesful_paths)\n",
        "print(\"\\Failed Paths:\")\n",
        "print(failed_paths)"
      ],
      "metadata": {
        "colab": {
          "base_uri": "https://localhost:8080/"
        },
        "id": "Rek2-3eaf8uW",
        "outputId": "97d6f776-b637-4a30-b91e-0ccf7114d5c1"
      },
      "execution_count": 557,
      "outputs": [
        {
          "output_type": "stream",
          "name": "stdout",
          "text": [
            "Paths Table:\n",
            "/pol/\n",
            "Political Discussion\n",
            "Political Discussion\n",
            "1776 Returns\n",
            "Proud Boys\n",
            "Proud Boys\n",
            "Proud Boys\n",
            "Proud Boys\n",
            "Proud Boys\n",
            "1928 German federal election\n",
            "Fourth Marx Cabinet\n",
            "Fourth Marx Cabinet\n",
            "Fourth Marx Cabinet\n",
            "Fourth Marx Cabinet\n",
            "Fourth Marx Cabinet\n",
            "Fourth Marx Cabinet\n",
            "1929 German referendum\n",
            "1930 German federal election\n",
            "First Br%C3%Bcning Cabinet\n",
            "First Br%C3%Bcning Cabinet\n",
            "1932 German presidential election\n",
            "Paul Von Hindenburg\n",
            "\n",
            "First Six of Page Table:\n",
            "SortedDict({'/pol/': ['Political discussion', 'Imageboard', '4chan', 'Internet culture', 'Far-right extremism', 'Racism'], '1776 Returns': ['Proud Boys', 'Enrique Tarrio', 'January 6 United States Capitol attack'], '1928 German federal election': ['Fourth Marx cabinet', 'Centre Party (Germany)', 'German National People%27s Party', 'German People%27s Party', 'Bavarian People%27s Party', 'Second M%C3%BCller cabinet'], '1929 German referendum': [], '1930 German federal election': ['First Br%C3%BCning cabinet', 'Centre Party (Germany)', 'German Democratic Party', 'German People%27s Party', 'Economic Party (Germany)', 'Bavarian People%27s Party'], '1932 German presidential election': ['Paul von Hindenburg', 'Independent (politician)', 'Paul von Hindenburg', 'Independent (politician)', 'Paul von Hindenburg', 'Adolf Hitler'], 'Centre Party (Germany)': ['Christian democracy', 'Political party', 'Germany', 'German Empire', 'Weimar Republic', 'Otto von Bismarck'], 'Christian democracy': ['Political ideology', 'Catholic social teaching', 'Neo-scholasticism', 'Neo-Calvinism', 'Lutheran', 'Pentecostal'], 'Conservative': [], 'Far-right politics': ['Ultraconservatism', 'Ultranationalism', 'Authoritarianism', 'Nativism (politics)', 'Left%E2%80%93right political spectrum', 'Political right'], 'First Br%C3%BCning cabinet': [], 'Fourth Marx cabinet': ['Wilhelm Marx', 'Centre Party (Germany)', 'Weimar Republic', 'Third Marx cabinet', 'Reichswehr', 'Weimar Constitution'], 'Political discussion': [], 'Political ideology': [], 'Proud Boys': ['Far-right politics', 'Neo-fascism', 'Militant organization', 'Political violence', 'Federal government of the United States', 'Terrorism'], 'Ultraconservatism': ['Conservative', 'Far-right', 'Political spectrum', 'Political moderate', 'Fringe parties', 'Anti-globalism'], 'Wilhelm Marx': ['Centre Party (Germany)', 'Weimar Republic', 'Chancellor of Germany', 'Free State of Prussia', 'Reichstag of the German Empire', 'Weimar National Assembly']})\n",
            "\n",
            "Big Six Table:\n",
            "SortedDict({'4chan': [0, 0, 1, 0, 0, 0], 'Adolf Hitler': [0, 0, 0, 0, 0, 1], 'Anti-globalism': [0, 0, 0, 0, 0, 1], 'Authoritarianism': [0, 0, 1, 0, 0, 0], 'Bavarian People%27s Party': [0, 0, 0, 0, 1, 1], 'Catholic social teaching': [0, 1, 0, 0, 0, 0], 'Centre Party (Germany)': [1, 3, 0, 0, 0, 0], 'Chancellor of Germany': [0, 0, 1, 0, 0, 0], 'Christian democracy': [1, 0, 0, 0, 0, 0], 'Conservative': [1, 0, 0, 0, 0, 0], 'Economic Party (Germany)': [0, 0, 0, 0, 1, 0], 'Enrique Tarrio': [0, 1, 0, 0, 0, 0], 'Far-right': [0, 1, 0, 0, 0, 0], 'Far-right extremism': [0, 0, 0, 0, 1, 0], 'Far-right politics': [1, 0, 0, 0, 0, 0], 'Federal government of the United States': [0, 0, 0, 0, 1, 0], 'First Br%C3%BCning cabinet': [1, 0, 0, 0, 0, 0], 'Fourth Marx cabinet': [1, 0, 0, 0, 0, 0], 'Free State of Prussia': [0, 0, 0, 1, 0, 0], 'Fringe parties': [0, 0, 0, 0, 1, 0], 'German Democratic Party': [0, 0, 1, 0, 0, 0], 'German Empire': [0, 0, 0, 1, 0, 0], 'German National People%27s Party': [0, 0, 1, 0, 0, 0], 'German People%27s Party': [0, 0, 0, 2, 0, 0], 'Germany': [0, 0, 1, 0, 0, 0], 'Imageboard': [0, 1, 0, 0, 0, 0], 'Independent (politician)': [0, 1, 0, 1, 0, 0], 'Internet culture': [0, 0, 0, 1, 0, 0], 'January 6 United States Capitol attack': [0, 0, 1, 0, 0, 0], 'Left%E2%80%93right political spectrum': [0, 0, 0, 0, 1, 0], 'Lutheran': [0, 0, 0, 0, 1, 0], 'Militant organization': [0, 0, 1, 0, 0, 0], 'Nativism (politics)': [0, 0, 0, 1, 0, 0], 'Neo-Calvinism': [0, 0, 0, 1, 0, 0], 'Neo-fascism': [0, 1, 0, 0, 0, 0], 'Neo-scholasticism': [0, 0, 1, 0, 0, 0], 'Otto von Bismarck': [0, 0, 0, 0, 0, 1], 'Paul von Hindenburg': [1, 0, 1, 0, 1, 0], 'Pentecostal': [0, 0, 0, 0, 0, 1], 'Political discussion': [1, 0, 0, 0, 0, 0], 'Political ideology': [1, 0, 0, 0, 0, 0], 'Political moderate': [0, 0, 0, 1, 0, 0], 'Political party': [0, 1, 0, 0, 0, 0], 'Political right': [0, 0, 0, 0, 0, 1], 'Political spectrum': [0, 0, 1, 0, 0, 0], 'Political violence': [0, 0, 0, 1, 0, 0], 'Proud Boys': [1, 0, 0, 0, 0, 0], 'Racism': [0, 0, 0, 0, 0, 1], 'Reichstag of the German Empire': [0, 0, 0, 0, 1, 0], 'Reichswehr': [0, 0, 0, 0, 1, 0], 'Second M%C3%BCller cabinet': [0, 0, 0, 0, 0, 1], 'Terrorism': [0, 0, 0, 0, 0, 1], 'Third Marx cabinet': [0, 0, 0, 1, 0, 0], 'Ultraconservatism': [1, 0, 0, 0, 0, 0], 'Ultranationalism': [0, 1, 0, 0, 0, 0], 'Weimar Constitution': [0, 0, 0, 0, 0, 1], 'Weimar National Assembly': [0, 0, 0, 0, 0, 1], 'Weimar Republic': [0, 1, 1, 0, 1, 0], 'Wilhelm Marx': [1, 0, 0, 0, 0, 0]})\n",
            "\n",
            "Garbage Links Table:\n",
            "[['/pol/', 'Political discussion'], ['1776 Returns', 'Proud Boys', 'Far-right politics', 'Ultraconservatism', 'Conservative'], ['1928 German federal election', 'Fourth Marx cabinet', 'Wilhelm Marx', 'Centre Party (Germany)', 'Christian democracy', 'Political ideology'], ['1929 German referendum'], ['1930 German federal election', 'First Br%C3%BCning cabinet']]\n",
            "\n",
            "Succsessful Paths:\n",
            "5\n",
            "\\Failed Paths:\n",
            "5\n"
          ]
        }
      ]
    },
    {
      "cell_type": "code",
      "source": [
        "pages = []"
      ],
      "metadata": {
        "id": "LLtugTClFdWn"
      },
      "execution_count": 563,
      "outputs": []
    },
    {
      "cell_type": "code",
      "source": [
        "print(len(pages))\n",
        "print(pages)"
      ],
      "metadata": {
        "colab": {
          "base_uri": "https://localhost:8080/"
        },
        "id": "mSkfGogwS0AO",
        "outputId": "1e0153e8-a0aa-4e38-df23-e0e216e3a5af"
      },
      "execution_count": 562,
      "outputs": [
        {
          "output_type": "stream",
          "name": "stdout",
          "text": [
            "2633\n",
            "['/pol/', '1776 Returns', '1928 German federal election', '1929 German referendum', '1930 German federal election', '1932 German presidential election', '1934 German referendum', '1934 Montreux Fascist conference', '1935 Saar status referendum', '1936 Summer Olympics', '1936 Winter Olympics', '1940 Field Marshal Ceremony', '1988 Hamas charter', '1st Belorussian Front', '20 July plot', '20th Century Press Archives', '21 Paths to the Kingdom of Darkness', '25-point programme', \"28 May 1926 coup d'état\", '30 January 1939 Reichstag speech', '4th of August Regime', '6th Army (Wehrmacht)', '6th Bavarian Reserve Division', '8chan', '9th Army (Wehrmacht)', 'A. C. Cuza', 'A. K. Chesterton', 'ADÑ–Spanish Identity', 'A History of US', 'A Racial Program for the Twentieth Century', 'A Warning to the Hindus', 'Abba Ahimeir', 'Abd al-Qadir al-Husayni', 'Abdolhossein Teymourtash', 'Abhinav Bharat', 'Abol-Ghasem Kashani', 'Academic Karelia Society', 'Academy of Fine Arts Vienna', 'Acerbo Law', 'Action (newspaper)', 'Action Front of National Socialists/National Activists', 'Action Zealandia', 'Actual idealism', 'Addie L. Wyatt', 'Adela Pankhurst', 'Adelaide Institute', 'Adler und Falke', 'Adlerhorst', 'Adolf Eichmann', 'Adolf Heusinger', \"Adolf Hitler's 50th birthday\", \"Adolf Hitler's Munich apartment\", \"Adolf Hitler's bodyguard\", \"Adolf Hitler's cult of personality\", \"Adolf Hitler's directives\", \"Adolf Hitler's private library\", \"Adolf Hitler's rise to power\", \"Adolf Hitler's wealth and income\", 'Adolf Hitler Schools', 'Adolf Hitler and Stefanie Rabatsch', 'Adolf Hitler and vegetarianism', 'Adolf Hitler in popular culture', 'Adolf von Thadden', 'Adrien Arcand', 'Adventists', 'Aestheticization of politics', 'Afrikaner Weerstandsbeweging', 'Agrarian Labor Party', 'Agrarian Trade Union Federation', 'Ahnenerbe', 'Ailtirí na hAiséirghe', 'Aisin-Gioro Puyi', 'Ajan Suunta', 'Akhil Bharatiya Itihas Sankalan Yojana', 'Akhil Bharatiya Vidyarthi Parishad', 'Akio Morita', 'Aktion T4', 'Al-Futuwwa (Palestine)', 'Al-Muthanna Club', 'Alan Bullock', 'Alan F. Wilt', 'Alan Turing', 'Albanian Fascist Militia', 'Albanian Fascist Party', 'Albanian Lictor Youth', 'Albert Bormann', 'Albert Einstein', 'Albert Forster', 'Albert Speer', 'Alceste De Ambris', 'Aleksandar Tsankov', 'Aleksandr Dugin', 'Alessandro Pavolini', 'Alexander Andrae', 'Alexander Barkashov', 'Alexander Fleming', 'Alexander Mach', 'Alexander Prokhanov', 'Alexander Rud Mills', 'Alexander the Great', 'Alexander von Falkenhausen', 'Alexandros Koryzis', 'Alexey Milchakov', 'Alfons Heck', 'Alfred Baeumler', 'Alfred Hugenberg', 'Alfred Jodl', 'Alfred Ploetz', 'Alfred Rosenberg', 'Alfredo Rocco', 'Alison Cheek', 'Allach (porcelain)', 'Allied invasion of Sicily', 'Allies of World War II', 'Alois Brunner', 'Alois Hitler', 'Alphonse de Châteaubriant', 'Alt-lite', 'Alt-right', 'Alt-right pipeline', 'Alt-tech', 'Alwin-Broder Albrecht', 'Amadeo Giannini', 'American Front', 'American Nazi Party', 'Amihai Eliyahu', 'Amin al-Husseini', 'Amphetamine', 'Amphibious warfare', 'Amt Rosenberg', 'An Investigation of Global Policy with the Yamato Race as Nucleus', 'Anastasy Vonsiatsky', 'Andinia Plan', 'Andrei Sakharov', 'Andrej Hlinka', 'Andrew Anglin', 'Andrew Auernheimer', 'Andrew Grove', 'Andriy Biletsky', 'Angela Hitler', 'Angela Merkel', 'Angelo Oliviero Olivetti', 'Anglo-German Naval Agreement', 'Anglo-Iraqi War', 'Anlage Süd', 'Anne Frank', 'Anschluss', 'Ante Pavelić', 'Anthony Read', 'Anti-Comintern Pact', 'Anti-Defamation League', 'Anti-Jewish boycotts', 'Anti-Semitic', 'Anti-Semitism', 'Anti-Slavic sentiment', 'Anti-antisemitism', 'Anti-capitalist', 'Anti-clerical', 'Anti-communism', 'Anti-fascism', 'Anti-intellectualism', 'Antipodean Resistance', 'Antisemitic canards', 'Antisemitic incidents during the Gaza War (2008–2009)', 'Antisemitic trope', 'Antisemitism', 'Antisemitism during the Israel–Hamas war', 'Antisemitism in 21st-century France', 'Antisemitism in 21st-century Germany', 'Antisemitism in 21st-century Italy', 'Antisemitism in Argentina', 'Antisemitism in Australia', 'Antisemitism in Belarus', 'Antisemitism in Canada', 'Antisemitism in Chile', 'Antisemitism in China', 'Antisemitism in Christianity', 'Antisemitism in Costa Rica', 'Antisemitism in Europe', 'Antisemitism in France', 'Antisemitism in Greece', 'Antisemitism in Islam', 'Antisemitism in Japan', 'Antisemitism in New Zealand', 'Antisemitism in Pakistan', 'Antisemitism in Romania', 'Antisemitism in Russia', 'Antisemitism in Saudi Arabia', 'Antisemitism in South Africa', 'Antisemitism in Spain', 'Antisemitism in Sweden', 'Antisemitism in Turkey', 'Antisemitism in Ukraine', 'Antisemitism in Venezuela', 'Antisemitism in contemporary Austria', 'Antisemitism in contemporary Belgium', 'Antisemitism in contemporary Hungary', 'Antisemitism in contemporary Norway', 'Antisemitism in the Arab world', 'Antisemitism in the Olympic Games', 'Antisemitism in the Russian Empire', 'Antisemitism in the Soviet Union', 'Antisemitism in the UK Conservative Party', 'Antisemitism in the UK Labour Party', 'Antisemitism in the United Kingdom', 'Antisemitism in the United States', 'Antisemitism in the United States in the 21st century', 'Anton Drexler', 'Anton Joachimsthaler', 'Antonio Azara', 'Antony Beevor', 'Antoun Saadeh', 'Antti Isotalo (Jäger)', 'Anwar Sadat', 'Apocalypse: Hitler', 'Apollo 8', 'Arab Lictor Youth', 'Arab fascism', 'Arbeitertum', 'Archibald Maule Ramsay', 'Ardengo Soffici', 'Ardennes Offensive', 'Arditi', 'Aretha Franklin', 'Argentine Anticommunist Alliance', 'Argentine Fascist Party', 'Argentine Nationalist Action', 'Argentine Patriotic League', 'Aria Party', 'Armin D. Lehmann', 'Armin Mohler', 'Armistice of 11 November 1918', 'Armistice of 22 June 1940', 'Armistice of Cassibile', 'Arms race', 'Army Detachment Steiner', 'Army Group A', 'Army Group Centre', 'Army Group South', 'Army Group Vistula', 'Arne Somersalo', 'Arno Breker', 'Arnold Leese', 'Arriba (newspaper)', 'Arrow Cross Party', 'Art in Nazi Germany', 'Art of the Third Reich', 'Artgemeinschaft', 'Arthur Greiser', 'Arthur J. Jones', 'Arthur Schopenhauer', 'Arthur Seyss-Inquart', 'Arthur Wellesley, 5th Duke of Wellington', 'Arthur de Gobineau', 'Article 231', 'Article 48', 'Artur Axmann', 'Arvi Kalsta', 'Aryan Guard', 'Aryan Nations', 'Aryan race', 'Aryanism', 'Aryeh Eldad', 'Assassination attempts on Adolf Hitler', 'Atal Bihari Vajpayee', 'Atomwaffen Division', 'Atropa belladonna', 'Attack on Pearl Harbor', 'Aufbau Vereinigung', 'August Kubizek', 'Augustus Sol Invictus', 'Auschwitz concentration camp', 'Australia First Movement', 'Australia First Party', 'Australian Defence League', 'Australian National Socialist Party', 'Austria-Hungary', 'Austrian Civil War', 'Austrian German', 'Austrian Nazism', 'Austro-Hungarian Army', 'Austrofascism', 'Authoritarian', 'Authoritarian conservatism', 'Authoritarianism', 'Autobahn', 'Autochthonous Croatian Party of Rights', 'Autocracy', 'Autocratic', 'Autonome Nationalisten', 'Avanguardia Giovanile Fascista', 'Aventine Secession (20th century)', 'Avraham Stern', 'Axis powers', 'Azerbaijan National Democrat Party', 'Azov Brigade', 'Azure Party', 'BBC', 'Baby boomers', 'Bajrang Dal', 'Baked Alaska (activist)', 'Baldur von Schirach', 'Balkans', 'Ballantine Books', 'Balli Kombëtar', 'Baltic region', 'Barack Obama', 'Barbara Jordan', 'Barbiturate', 'Barry Mills (Aryan Brotherhood)', 'Bart Simpson', 'Baruch Goldstein', 'Baruch Marzel', 'Bases Autónomas', 'Battle Organization of Russian Nationalists', 'Battle of Arras (1917)', 'Battle of Belgium', 'Battle of Berlin', 'Battle of Britain', 'Battle of Crete', 'Battle of France', 'Battle of Greece', 'Battle of Kiev (1941)', 'Battle of Kursk', 'Battle of Moscow', 'Battle of Passchendaele', 'Battle of Smolensk (1941)', 'Battle of Stalingrad', 'Battle of the Atlantic', 'Battle of the Netherlands', 'Battle of the Seelow Heights', 'Battle of the Somme', 'Bavarian Army', 'Bavarian War Ministry', 'Bavarian language', 'Beefsteak Nazi', 'Beelitz', 'Beer Hall Putsch', 'Belarus', 'Ben Bernanke', 'Beness Aijo', 'Bengasi (film)', 'Benito Mussolini', 'Benjamin Ziemann', 'Bentzi Gopstein', 'Berchtesgaden', 'Berghof (residence)', 'Berlin', 'Berlin: The Downfall 1945', 'Berlusconism', 'Bernd Freytag von Loringhoven', 'Bernhard Rust', 'Bernhard von Bülow', 'Bert Eriksson', 'Betty Ford', 'Bharat Vikas Parishad', 'Bharatiya Gau Raksha Dal', 'Bharatiya Jana Sangh', 'Bharatiya Janata Party', 'Bharatiya Janata Yuva Morcha', 'Bharatiya Kisan Sangh', 'Bharatiya Mazdoor Sangh', 'Bibliography of Adolf Hitler', 'Bill Clinton', 'Bill Gates', 'Bill W.', 'Billie Jean King', 'Billy Graham', 'Bin Akao', 'Bjorn Hocke', 'Black Brigades', 'Black Dragon Society', 'Black Front', 'Black Front (Netherlands)', 'Black Legion (Ustaše militia)', 'Blackshirts', 'Blair Cottrell', 'Blaž Kraljević', 'Blomberg–Fritsch affair', 'Blondi', 'Blood & Honour', 'Blood and soil', 'Blood libel', 'Bloodlands: Europe Between Hitler and Stalin', 'Blue-and-Black Movement', 'Blue-and-Blacks', 'Blue Shirts Society', 'Blueshirts', 'Bob Dylan', 'Bohemianism', 'Bolesław Piasecki', 'Bolivian Socialist Falange', 'Bolshevism', 'Bono', 'Borderline personality disorder', 'Bosnian Movement of National Pride', 'Bourgeois nation', 'Braunau am Inn', 'Brazilian Integralism', 'Brazilian Integralist Action', 'Brazilian Integralist Front', 'Breast cancer', \"Breton Social-National Workers' Movement\", 'Brienner Straße (Munich)', 'Brit HaBirionim', 'Britain First', 'British Democratic Party (2013)', 'British Fascists', 'British League of Ex-Servicemen and Women', 'British Movement', 'British National Party', 'British National Party (1960)', \"British People's Party (1939)\", \"British People's Party (2005)\", 'British Union of Fascists', 'British and French declaration of war on Germany', 'British fascism', 'Bronislav Kaminski', 'Brothers of Italy', 'Brown House, Munich', 'Bruce Lee', 'Bruno Gesche', 'Buchenwald concentration camp', 'Bugojno group', 'Bulgaria', 'Bulgarian National Socialist Workers Party', 'Bund Deutscher Osten', 'Bundesrealgymnasium Linz Fadingerstraße', 'Bürgerbräukeller', 'CEDADE', 'Calvin College', 'Campaign Against Antisemitism', 'Canadian Association for Free Expression', 'Canadian Union of Fascists', 'Capital Gazette shooting', 'Capitalism', 'Carl Gustaf Emil Mannerheim', 'Carl Schmitt', 'Carla Anderson Hills', 'Carlos Castillo Armas', 'Carlos Manuel Arana Osorio', 'Carmen Franco, 1st Duchess of Franco', 'Carol Sutton (journalist)', 'Casuals United', 'Catholic', 'Causes of World War II', \"Centre Party '86\", 'Centre Party (Germany)', 'Centre Party (New South Wales)', 'Chamber of Fasces and Corporations', 'Chancellor of Germany', 'Charismatic authority', 'Charles Coughlin', 'Charles Darwin', 'Charles E. Merrill', 'Charles H. Townes', 'Charles Lindbergh', 'Charles Stark Draper', 'Charles de Gaulle', 'Charlie Chaplin', 'Chauvinism', 'Che Guevara', 'Cheb', 'Chiang Kai-shek', 'Chiangism', 'Child euthanasia in Nazi Germany', 'Chlodwig, Prince of Hohenlohe-Schillingsfürst', 'Christa Schroeder', 'Christian Identity', 'Christian National Socialist Front', 'Christian Party (United States, 1930s)', 'Christian Wulff', 'Christian fascism', 'Citizens for Foreign Aid Reform', 'Class collaboration', 'Claus von Stauffenberg', 'Clemson University', \"Clerical People's Party\", 'Clerical fascism', 'Cocaine', 'Coco Chanel', 'Cohen Plan', 'Cold War', 'Coleen Rowley', 'Colin Jordan', 'Collaboration with Nazi Germany and Fascist Italy', 'Columbus Globe for State and Industry Leaders', 'Column 88', 'Combat Terrorist Organization', 'Communism', 'Communist Party of Germany', 'Community Security Trust', 'Concordia Association', 'Condottieri (film)', 'Confederation of the Nation', 'Consequences of Nazism', 'Conservative Revolution', \"Conspiracy theories about Adolf Hitler's death\", 'Conspiracy theory', 'Constantin Fehrenbach', 'Constanze Manziarly', 'Corazon Aquino', 'Corfu incident', 'Corneliu Zelea Codreanu', 'Coronary sclerosis', 'Corporatism', 'Corpul Muncitoresc Legionar', 'Costanzo Ciano', 'Coventry', 'Creativity (religion)', 'Criticism of rationalism', 'Croatian Defence Forces', 'Croatian Liberation Movement', 'Croatian National Resistance', 'Croatian Party of Rights', 'Croatian Revolutionary Brotherhood', 'Crowd manipulation', 'Crowd psychology', 'Crusade of Romanianism', 'Crypto-fascism', 'Cult of personality', 'Cultural Bolshevism', 'Cultural Marxism conspiracy theory', 'Currency Wars', 'Curzio Malaparte', 'Cyanide', 'Cynthia Cooper (accountant)', 'Czechoslovakia', 'Cécil von Renthe-Fink', 'Dan Plesch', 'Daniel Goldhagen', 'Dariush Forouhar', 'Darya Dugina', 'Das Deutsche Mädel', 'Das Reich (newspaper)', 'Das Schwarze Korps', 'David & Charles', 'David Ben-Gurion', 'David Duke', 'David Glantz', \"David Ha'ivri\", 'David Ho', 'David Lane (white supremacist)', 'David Myatt', 'David Sarnoff', 'Davud Monshizadeh', 'De-colonisation', 'DeVlag', 'Death certificate', 'Death of Adolf Hitler', 'Death of Benito Mussolini', 'December 1924 German federal election', 'Declarations of war during World War II', 'Defiance (book)', 'Definitions of fascism', 'Demagogue', 'Demilitarise', 'Democidal', 'Democide', 'Democratic Fascist Party', 'Denazification', 'Deng Xiaoping', 'Deportation', 'Deputy Führer of the Nazi Party', 'Der Angriff', 'Der Pimpf', 'Der Sieg des Glaubens', 'Der Stürmer', 'Der Umbruch', 'Deutsche Allgemeine Zeitung', 'Deutsche Reichspartei', 'Deutsches Jungvolk', 'Deutschlandlied', 'Devlet Bahçeli', 'Diana, Princess of Wales', 'Diana Mosley', 'Dictator', 'Dictatorship', 'Did Six Million Really Die?', 'Die Wehrmacht', 'Dietrich Eckart', 'Dietrich Klagges', 'Dimitrije Ljotić', 'Dino Alfieri', 'Dino Grandi', 'Dionisio Ridruejo', 'Direct action', 'Dirigisme', 'Disclose.tv', 'Discrimination', 'Disinformation', 'Dmitry Borovikov', 'Dmytro Dontsov', 'Dmytro Klyachkivsky', \"Doctors' Trial\", \"Doctors' plot\", 'Doi (identifier)', \"Doktor Koster's Antigaspills\", 'Dolchstoßlegende', 'Dominion', 'Don Black (white supremacist)', 'Donald A. Glaser', 'Donald Trump', 'Downfall (2004 film)', 'Drang nach Osten', 'Dreyfus affair', 'Dunkirk evacuation', 'Durga Vahini', 'Dust jacket', 'Dutch Fascist Union', 'Dwight D. Eisenhower', 'Düsseldorf', 'Early timeline of Nazism', 'East Germany', 'Eastern Bloc', 'Eastern Front (World War II)', 'Eberhard Kolb', 'Eckhard Christian', 'Ecofascism', 'Economic antisemitism', 'Economic interventionism', 'Economics of fascism', 'Economy of Nazi Germany', 'Eden Natan-Zada', 'Edmondo Rossoni', 'Edmund Hillary', 'Eduard Limonov', 'Edvard Beneš', 'Edward Mills Purcell', 'Edward Teller', 'Edwin Hubble', 'Egon Krenz', 'Eidgenössische Sammlung', 'Einsatzgruppen', 'Ekal Vidyalaya', 'El Alcázar', 'Eleanor Roosevelt', 'Eleftheros Kosmos', 'Elena Bacaloglu', 'Elias Simojoki', 'Elizabeth Dilling', 'Elizabeth II', 'Ella Grasso', 'Elon Musk', 'Else Krüger', 'Emergency powers', 'Emil Hácha', 'Emil Maurice', 'Emilio De Bono', 'Emilio Segrè', 'Emmeline Pankhurst', 'Empire of Japan', 'Enabling Act of 1933', 'Engelbert Dollfuss', 'English Defence League', 'English National Association', 'Enrico Corradini', 'Enrico Fermi', 'Enrique Tarrio', 'Environmentalism', \"Eoin O'Duffy\", 'Erbkrank', 'Erhard Heiden', 'Eric Campbell (political activist)', 'Erich Fromm', 'Erich Honecker', 'Erich Kempka', 'Erich Ludendorff', 'Erich Raeder', 'Erna Flegel', 'Ernest Blythe', 'Ernest G. Liebold', 'Ernesto Giménez Caballero', 'Ernst-Günther Schenck', 'Ernst-Robert Grawitz', 'Ernst Hanfstaengl', 'Ernst John von Freyend', 'Ernst Kaltenbrunner', 'Ernst Niekisch', 'Ernst Röhm', 'Ernst Rüdiger Starhemberg', 'Ernst Zündel', 'Esoteric Nazism', 'Esteban de Bilbao Eguía', 'Estée Lauder (businesswoman)', 'Ethan Nordean', 'Ethiopian Lictor Youth', 'Ethnic Cleansing (video game)', 'Ethnic German', 'Ethnic National Union', 'Ethnic cleansing', 'Ethnic nationalism', 'Eugenics', \"Eugène Terre'Blanche\", 'Eurasia Movement', 'Eurasia Party', 'Eurasianism', 'Europa: The Last Battle', 'Europe a Nation', 'European Defence League', 'European Liberation Front', 'European Nation State', 'European Social Movement', 'European theatre of World War II', 'Eustace Mullins', 'Euthanasia', 'Eva Braun', 'Ewald Lindloff', 'Expansionism', 'Explaining Hitler: The Search for the Origins of His Evil', 'Expulsions and exoduses of Jews', 'Extermination camp', 'Extermination through labour', 'Ezra Pound', 'F-scale (personality test)', 'F. W. de Klerk', 'FEAR (terrorist group)', 'FET y de las JONS', 'Faisal of Saudi Arabia', 'Faisceau', 'Faith and Beauty Society', 'Falanga (organisation)', 'Falange Armata', 'Falange Auténtica', 'Falange Española', 'Falange Española Auténtica', 'Falange Española Independiente', 'Falange Española de las JONS', 'Falange Española de las JONS (1976)', 'Falange Militia', 'Falangism', 'Falangism in Latin America', 'Falangist Movement of Spain', 'Fall Grün (Czechoslovakia)', 'Fall Weiss (1939)', 'Fall of the Fascist regime in Italy', 'Far-left politics', 'Far-right politics', 'Fasci Italiani di Combattimento', 'Fascio', \"Fascio d'Azione Rivoluzionaria\", 'Fascism', 'Fascism and ideology', 'Fascism in Asia', 'Fascism in Canada', 'Fascism in Europe', 'Fascism in North America', 'Fascism in South America', 'Fascism in Uruguay', 'Fascist (insult)', 'Fascist League of North America', 'Fascist Manifesto', 'Fascist Union of Youth', 'Fascist architecture', 'Fascist mysticism', 'Fascist paramilitary', 'Fascist symbolism', 'Fascist syndicalism', 'Fashist', 'Fashizmi', 'Fayez Sayigh', 'Federal Foreign Office', 'Federal Republic of Germany', 'Felix Steiner', 'Felsennest', 'Female Peronist Party', 'Ferdinand Schörner', 'Ferdinand Ďurčanský', 'Ferenc Szálasi', 'Feudal fascism', 'Field marshal', 'Filippo Tommaso Marinetti', 'Final Solution', 'Final solution', \"Finnish-Socialist Workers' Party\", 'Finnish National Socialist Labor Organisation', \"Finnish People's Organisation\", 'Finnish Realm Union', 'First Battle of Ypres', 'Fischlham', 'Flemish Guard', 'Flemish Legion', 'For My Legionaries', 'For the Native Language!', 'Forced labour under German rule during World War II', 'Format18', 'Foundations of Geopolitics', 'Four Year Plan', 'Fournes-en-Weppes', 'Francis Crick', 'Francis Parker Yockey', 'Francis de Groot', 'Francisco Franco', 'Francisco Franco National Foundation', 'Francisco Rolão Preto', 'Franco Freda', 'Francoist Spain', 'Frank-Walter Steinmeier', 'Frank Borman', 'Frank Sinatra', 'Frankenberger thesis', 'Franklin D. Roosevelt', 'Franklin Prophecy', 'Franz Gürtner', 'Franz Jetzinger', 'Franz Kurowski', 'Franz Pfeffer von Salomon', 'Franz Schlegelberger', 'Franz Schädle', 'Franz Seldte', 'Franz Xaver Schwarz', 'Franz von Papen', 'Franz von Sonnleithner', 'François Genoud', 'Françoise Dior', 'Frazier Glenn Miller Jr.', 'Frederick III, German Emperor', 'Free City of Danzig', \"Free German Workers' Party\", 'Free State of Brunswick', \"Freethinkers' Party\", 'French National-Collectivist Party', 'French Nationalist Party', 'French Popular Party', 'French fascism', 'Frente de Estudiantes Sindicalistas', 'Frente de Juventudes', 'Friedrich Ebert', 'Friedrich Franz, Hereditary Grand Duke of Mecklenburg-Schwerin', 'Friedrich Meinecke', 'Friedrich Nietzsche', 'Friedrich Weber (veterinarian)', 'Friends of New Germany', 'Frits Clausen', 'Fritt Folk', 'Fritz Julius Kuhn', 'Fritz Todt', 'Fritz Tornow', 'Front of National Revolutionary Action', 'Frontbann', 'Fronten', 'Fundamental Rights Agency', \"Fédération d'action nationale et européenne\", 'Führer', 'Führer (disambiguation)', 'Führer Headquarters', 'Führer of Germany', 'Führer of the Nazi Party', 'Führer und Reichskanzler', 'Führerbunker', 'Führerhauptquartier Tannenberg', 'Führermuseum', 'Führerprinzip', 'Führersonderzug', 'G.I.', 'GRECE', 'Gab (social network)', \"Gabriele D'Annunzio\", 'Galeazzo Ciano', 'Gamal Abdel Nasser', 'Garmisch-Partenkirchen', 'Garrison Church (Potsdam)', 'Gas chamber', 'Gauleiter', 'Gavin McInnes', 'Gefreiter', 'Geli Raubal', 'Gemlich letter', 'General Dutch Fascist League', 'General Government', 'Generalplan Ost', 'Genocide', 'Genocide of Serbs in the Independent State of Croatia', 'Geoffrey P. Megargee', 'Geography of antisemitism', 'Geopolitik', 'Georg Betz', 'Georg Michaelis', 'Georg Ritter von Schönerer', 'Georg von Hertling', 'George Beadle', 'George C. Marshall', 'George H. W. Bush', 'George Lichtheim', 'George Lincoln Rockwell', 'George W. Bush', 'Georges Valois', 'Georgios Papadopoulos', 'Georgy Zhukov', 'Gerald L. K. Smith', 'Gerda Christian', 'Gerhard Boldt', 'Gerhard Schach', 'Gerhard Schröder', 'Gerhard Weinberg', 'German American Bund', 'German Army (1935–1945)', 'German Christians (movement)', 'German Empire', 'German Faith Movement', 'German Jews', 'German Labour Front', 'German National Library of Economics', 'German National Movement in Liechtenstein', \"German National People's Party\", \"German National Socialist Workers' Party (Czechoslovakia)\", 'German Party (Romania)', \"German People's Party (Romania)\", 'German Reich', 'German Romanticism', 'German Social Union (West Germany)', 'German Socialist Party', 'German Student Union', \"German Workers' Party\", 'German battleship Tirpitz', 'German declaration of war against the United States', 'German imperialism', 'German language', 'German militarism', 'German mistreatment of Soviet prisoners of war', 'German nationalism', 'German nationalist', 'German occupation of Luxembourg in World War II', 'German re-armament', 'German rearmament', 'Germanisation', 'Germanisation of Poles during the Partitions', 'Germanise', 'Germany', 'Germany and the Second World War', 'Germany–Japan relations', 'German–Polish Non-Aggression Pact', 'Gestapo', 'Gheorghe Buzatu', 'Ghettos in Nazi-occupied Europe', 'Giacomo Acerbo', 'Giacomo Boni (archaeologist)', 'Giant-cell arteritis', 'Giovanni Gentile', 'Giovanni Giuriati', 'Giovanni Papini', 'Gioventù Fascista', 'Gioventù Italiana del Littorio', 'Gitta Sereny', 'Giuliano Gozi', 'Giulio Cogni', 'Giuseppe Bastianini', 'Giuseppe Bottai', 'Giuseppe Volpi', 'Gleichschaltung', 'Glossary of Nazi Germany', 'Goebbels Gap', 'Goebbels children', 'Golden Dawn (Greece)', 'Golden Dawn (magazine)', 'Golden Square (Iraq)', 'Gonzalo Torrente Ballester', 'Gott erhalte Franz den Kaiser', 'Gottfried Feder', 'Gotthard Heinrici', 'Gottlob Berger', 'GoyimTV', 'Goyim Defense League', 'Graeme Campbell (politician)', 'Grand Council of Fascism', 'Grand coalition', 'Graz', 'Great Depression', 'Great Japan Youth Party', 'Greater Britain Movement', \"Greater German People's Community\", 'Greater Germanic Reich', 'Greek National Socialist Party', 'Gregor Strasser', 'Greta Thunberg', 'Grey Wolves (organization)', 'Groupe Collaboration', 'Groypers', 'Guido Buffarini Guidi', 'Guido von List', 'Gustav Bauer', 'Gustav Heinemann', 'Gustav Ritter von Kahr', 'Gustav Stresemann', 'Gustave Le Bon', 'Gustavs Celmiņš', 'Gyula Gömbös', 'Gândirea', 'Günther Korten', 'Günther Schwägermann', 'Habsburg monarchy', 'Haile Selassie', 'Hamaas', 'Hammerskins', 'Hanna Reitsch', 'Hanns Kerrl', 'Hanns Ludin', 'Hans-Erich Voss', 'Hans Baur', 'Hans F. K. Günther', 'Hans Frank', 'Hans Fritzsche', 'Hans Krebs (Wehrmacht general)', 'Hans Lammers', 'Hans Luther', 'Hans Refior', 'Hans Reisser', 'Hans Ritter von Seisser', 'Hans Ulrich Klintzsch', 'Harlow Curtice', 'Harry S. Truman', 'Harvard University', 'Harvey Milk', 'Hdl (identifier)', 'Head of government', 'Head of state', 'Health of Adolf Hitler', 'Heathen Front', 'Heim ins Reich', 'Heimat', 'Heimwehr', 'Heinrich Borgmann', 'Heinrich Brüning', 'Heinrich Doose', 'Heinrich Fraenkel', 'Heinrich Held', 'Heinrich Himmler', 'Heinrich Lübke', 'Heinrich Müller (Gestapo)', 'Heinz Assmann', 'Heinz Brandt', 'Heinz Hitler', 'Heinz Krüger', 'Heinz Linge', 'Heinz Lorenz', 'Heinz Pernet', 'Helen Keller', 'Helmut Kohl', 'Helmut Kunz', 'Helmut Schmidt', 'Helmuth Weidling', 'Hendrik Elias', 'Henri Béraud', 'Henry Ford', 'Henry Kissinger', 'Herbert Backe', 'Herbert Büchs', 'Heritage Front', 'Hermann Esser', 'Hermann Fegelein', 'Hermann Göring', 'Hermann Kriebel', 'Hermann Muhs', 'Hermann Müller (politician, born 1876)', 'Hero', 'Heroic capitalism', 'Heroic realism', 'Het Nieuwe Volk', 'High treason', 'Hilfspolizei', 'Hindu Mahasabha', 'Hindu Makkal Katchi', 'Hindu Munnani', 'Hindu Swayamsevak Sangh', 'Hindutva', 'Hindutva pop', 'Hirden', 'Historiography of Adolf Hitler', 'History of antisemitism', 'History of antisemitism in the United States', 'Hitler', \"Hitler's Chancellery\", \"Hitler's Table Talk\", \"Hitler's Willing Executioners\", \"Hitler's prophecy\", 'Hitler: The Last Ten Days', 'Hitler: The Rise of Evil', 'Hitler (disambiguation)', 'Hitler Cabinet', 'Hitler Diaries', 'Hitler Youth', 'Hitler and Mannerheim recording', 'Hitler birthplace memorial stone', 'Hitler cabinet', 'Hitler family', 'Hitler oath', 'Hitlers Zweites Buch', 'Hjalmar Schacht', 'Hlinka Guard', 'Ho Chi Minh', 'Holocaust denial', 'Holocaust victims', 'Home front', 'Horia Sima', 'Horst-Wessel-Lied', 'Horst Köhler', 'Hosank', 'Hossbach Memorandum', 'Host desecration', 'Houston Stewart Chamberlain', 'Hristo Lukov', 'Hrvatski Domobran', 'Hubert Lagardelle', 'Hugh S. Johnson', 'Hugh Trevor-Roper', 'Hugo Blaschke', 'Hugo Gutmann', 'Hungarian National Defence Association', 'Hungarian National Front', \"Hungarian National Socialist Agricultural Labourers' and Workers' Party\", 'Hungarian National Socialist Party', 'Hungarian Revolution of 1956', 'Hungary', 'Hunger Plan', 'Hunter (Pierce novel)', 'Hutu Power', 'ISBN (identifier)', 'ISSN (identifier)', 'Ian Hancock', 'Ian Kershaw', 'Identitarian movement', 'Identity Evropa', 'Igor Stravinsky', 'Ikki Kita', \"Il Popolo d'Italia\", 'Ilias Kasidiaris', 'Ilminism', 'Impeachment of Man', 'Imperial Fascist League', 'Imperial German Army', 'Imperial Japan', 'Imperial Way Faction', 'Imperialism', 'Imperium: The Philosophy of History and Politics', 'Imperium Europa', 'Indoctrination', 'Innviertler Heimatblatt', 'Inside the Third Reich', 'Integral nationalism', 'Interbrigades', 'International Jewish conspiracy', 'International Military Tribunal for the Far East', 'International Third Position', 'Internet Archive', 'Intransigent fascism', 'Invasion of Poland', 'Invasion of Yugoslavia', 'Ioan Slavici', 'Ioannis Lagos', 'Ion Antonescu', 'Ion Dragoumis', 'Ion Gavrilă Ogoranu', 'Ion Gigurtu', 'Ion Moța', 'Iran-e-No Party', 'Iraq War', 'Iron Cross', 'Iron Guard', 'Iron Guard (Argentina)', 'Iron Wolf (organization)', 'Irregular heartbeat', 'Irritable bowel syndrome', 'Irv Rubin', 'Isamu Chō', 'Isgandar Hamidov', 'Isidor Isaac Rabi', 'Islam', 'Islamofascism', 'Israel', 'Italian Fascism', 'Italian Nationalist Association', 'Italian Social Movement', 'Italian Social Republic', 'Italian economic battles', 'Italian fascism', 'Italian resistance movement', 'Italianization', 'Italianization of South Tyrol', 'Italo-German protocol of 23 October 1936', 'Italo Balbo', 'Itamar Ben-Gvir', 'Ivan Ilyin', 'JSTOR (identifier)', 'Jackie Robinson', 'Jacques Benoist-Méchin', 'Jacques Doriot', 'Jamal Khashoggi', 'James F. Byrnes', 'James Joyce', 'James Mason (neo-Nazi)', \"James P. O'Donnell\", 'James Van Allen', 'James Watson', 'James von Brunn', 'Jammu Praja Parishad', 'Japanization', 'Jason Kessler', 'Je suis partout', 'Jean-Marie Loret', 'Jean Denis (politician)', 'Jean Piaget', 'Jef van de Wiele', 'Jeff Bezos', 'Jerusalem Declaration on Antisemitism', 'Jeune Nation', 'Jeunesse Populaire Française', 'Jew Watch', 'Jewish', 'Jewish Bolshevism', 'Jewish Defense League', 'Jewish Defense Organization', 'Jewish National Front', 'Jewish antisemitism', 'Jewish deicide', 'Jewish fascism', 'Jewish ghettos in Europe', 'Jewish hat', 'Jewish history', 'Jewish lobby', 'Jewish quarter (diaspora)', 'Jewish question', 'Jewish quota', 'Jewish war conspiracy theory', 'Jill Ker Conway', 'Jim Henson', 'Jim Lovell', 'Jim Saleam', 'Jimmy Carter', 'Joachim Fest', 'Joachim Gauck', 'Joachim von Ribbentrop', 'Joaquín Bau Nolla', 'Joe Biden', 'Joe Biggs', 'Johann Georg Hiedler', 'Johann Nepomuk Hiedler', 'Johann Rattenhuber', 'Johanna Wolf', 'Johannes Hentschel', 'Johannes Rau', 'John Beckett (politician)', 'John F. Kennedy', 'John Foster Dulles', 'John Franklin Enders', 'John Keegan', 'John Maynard Keynes', 'John Patsalos', 'John Roberts (historian)', 'John S. Conway (historian)', 'John Sirica', 'John Toland (author)', 'John Tyndall (far-right activist)', 'John Wheeler-Bennett', 'Jon Minadeo II', 'Jonas Noreika', 'Jonas Salk', 'Joris Van Severen', 'Josef Bühler', 'Josef Mengele', 'Josef Ochs', 'Josef Terboven', 'Joseph Berchtold', 'Joseph Goebbels', 'Joseph Stalin', 'Joseph Stalin and antisemitism', 'Joseph Wirth', 'Joshua Lederberg', 'José Antonio Primo de Rivera', 'José Luis de Arrese', 'José Streel', 'José de la Riva-Agüero y Osma', 'Joy Hakim', 'Jozef Tiso', 'Juan Perón', 'Juan Trippe', 'Judensau', 'Judeo-Bolshevism', 'Judeo-Masonic conspiracy theory', 'Juhani Konkka', 'Julius Dorpmüller', 'Julius Evola', 'Julius Schaub', 'Julius Schreck', 'Julius Streicher', 'July 1932 German federal election', 'July Putsch', 'Jungmädelbund', 'Juntas Españolas', 'Juntas de Ofensiva Nacional-Sindicalista', 'Jure Francetić', 'Juventudes de Acción Popular', 'Jörg Lanz von Liebenfels', 'Jürgen Rieger', 'K. B. Hedgewar', 'Kach (political party)', 'Kahanism', 'Kamala Harris', 'Kampfbund Deutscher Sozialisten', 'Kampfhäusl', 'Kampfverlag', 'Kangura', 'Kansallissosialisti', 'Karl-Jesko von Puttkamer', 'Karl Bodenschatz', 'Karl Carstens', 'Karl Dietrich Bracher', 'Karl Dönitz', 'Karl Gebhardt', 'Karl Hanke', 'Karl Haushofer', 'Karl Hermann Frank', 'Karl Lueger', 'Karl Mayr', 'Karl Wilhelm Krause', 'Kataeb Party', 'Kataeb Regulatory Forces', 'Kathleen Byerly', 'Kehlsteinhaus', 'Ken Starr', 'Kenkokukai', 'Kennedy family', 'Kent Brantly', 'Kershaw, Ian', 'Kevin Alfred Strom', 'Kevin MacDonald (evolutionary psychologist)', 'Killing baby Hitler', 'Kingoro Hashimoto', 'Kirchenkampf', 'Klara Hitler', 'Klara Pölzl', 'Klaus Hildebrand', 'Kokumin Dōmei', 'Kokutairon and Pure Socialism', 'Konrad Adenauer', 'Konrad Henlein', 'Konstantin Hierl', 'Konstantin Rodzaevsky', 'Konstantin von Neurath', 'Korea Nationalist Party', 'Korean National Youth Association', 'Korean War', 'Kosher tax conspiracy theory', 'Kriegsmarine', 'Kristallnacht', 'Kroll Opera House', 'Ku Klux Klan', 'Kurt Daluege', 'Kurt Georg Kiesinger', 'Kurt Gödel', 'Kurt Schmitt', 'Kurt Schuschnigg', 'Kurt von Schleicher', 'Kyaw Soe Oo', \"L'Alba\", \"L'Armata Azzurra\", \"L'Œuvre Française\", 'L. K. Advani', 'LEPEN (political party)', 'LaRouche movement', 'La Cagoule', 'La Conquista del Estado', 'La Difesa della Razza', 'La Falange (1999)', 'La France au travail', 'La France juive', 'La Libre Parole', 'La Resistencia Dios, Patria y Familia', 'Lads Society', 'Lalli Alliance of Finland', 'Lambach', 'Landeshauptstadt Potsdam', 'Landsberg Prison', 'Lapua Movement', 'Last will and testament of Adolf Hitler', 'Laurence Rees', 'Lauri Törni', 'Law Concerning the Head of State of the German Reich', 'Laws against Holocaust denial', 'Le Corbusier', 'Le Faisceau', 'Le Pays Réel', 'Leaderism', 'League of German Girls', 'League of Nations', 'League of Saint George', 'League of the South', 'Leakey family', 'Lebensraum', 'Lech Wałęsa', 'Lee Beom-seok (prime minister)', 'Legion Wasa', 'Legionarism', 'Legitimacy (family law)', 'Lehava', 'Lehi (militant group)', 'Len Deighton', 'Leni Riefenstahl', 'Leo Baekeland', 'Leo Burnett', 'Leo Rudolf Raubal Jr.', 'Leo von Caprivi', 'Leon Rupnik', 'Leonding', 'Leopoldo Lugones', 'Les Identitaires', 'Lev Rebet', 'Levente (organization)', 'Libel', 'Liberal Democratic Party of Russia', 'Liberal Party (South Korea)', 'Libyan genocide', 'Liechtenstein Homeland Service', 'Limonka (newspaper)', 'Linus Pauling', 'Linz', \"List of Adolf Hitler's directives\", \"List of Adolf Hitler's personal staff\", 'List of British fascist parties', 'List of Nazi Party leaders and officials', 'List of Nazi ideologues', 'List of Nazis', 'List of Nazis who died in the Beer Hall Putsch', 'List of SS personnel', 'List of assassination attempts on Adolf Hitler', 'List of books by or about Adolf Hitler', 'List of chancellors of Germany', 'List of fascist movements', 'List of fascist movements by country', 'List of fascist movements by country A–F', 'List of fascist movements by country G–M', 'List of fascist movements by country N–T', 'List of fascist movements by country U–Z', 'List of heads of state of Germany', 'List of last surviving people suspected of participation in Nazi war crimes', 'List of people killed or wounded in the 20 July plot', 'List of people who have opened the Olympic Games', 'List of speeches given by Adolf Hitler', 'List of streets named after Adolf Hitler', 'List of wars by death toll', 'List of writers on antisemitism', 'List of youth organizations', 'Lithuanian Nationalist Union', 'Liturgy', 'Lo squadrone bianco', 'Lohengrin (opera)', 'Louis Armstrong', 'Louis B. Mayer', 'Louis Beam', 'Louis Farrakhan', 'Lucien Rebatet', 'Lucille Ball', 'Lucky Luciano', 'Ludwig Erhard', 'Ludwig Kaas', 'Ludwig Müller', 'Ludwig Stumpfegger', 'Ludwig Wittgenstein', 'Luftwaffe', 'Luis Carrero Blanco', 'Luis Miguel Sánchez Cerro', 'Lutz Graf Schwerin von Krosigk', 'Lyndon B. Johnson', 'Lyndon LaRouche', 'László Ferenczy', 'Léon Degrelle', 'Lăncieri', 'M. S. Golwalkar', 'MI5', 'Machismo', 'Magda Goebbels', 'Mahatma Gandhi', 'Makapili', 'Maliq Bushati', 'Manchukuo', 'Manchuria', 'Manfred Gerlach', 'Manifesto of Race', 'Manifesto of the Fascist Intellectuals', 'Manlio Morgagni', 'Mano Blanca', 'Mao Zedong', 'Marcel Bucard', 'Marcel Déat', 'Marcelo Caetano', 'March 1933 German federal election', 'March of the Iron Will', 'March on Rome', 'Margaret Sanger', 'Margaret Thatcher', 'Margherita Sarfatti', 'Maria Ressa', 'Maria Schicklgruber', 'Mariahilf', 'Marilyn Monroe', 'Marinus van der Lubbe', 'Mark Zuckerberg', 'Marlon Brando', 'Martha Graham', 'Martin Bormann', 'Martin Luther', 'Martin Luther King Jr.', 'Martin Luther and antisemitism', 'Martyrdom in Judaism', 'Marxists', 'Masada2000', 'Mass in the Catholic Church', 'Master race', 'Matthew Heimbach', 'Maurice Bardèche', 'Maurrassisme', 'Maxim Martsinkevich', 'Maximiliano Hernández Martínez', 'May 1924 German federal election', 'MeToo movement', 'Measles', 'Mechtild Rössler', 'Medieval antisemitism', 'Mefo bills', 'Mein Kampf', 'Mein Kampf in Arabic', 'Mein Kampf in English', 'Meir Kahane', 'Meir Weinstein', 'Meldemannstraße dormitory', 'Melinda French Gates', 'Mellah', 'Metapedia', 'Metaxism', 'Mexican Democratic Party', 'Mexican Fascist Party', 'Michael Ben-Ari', 'Michael Kühnen', 'Michael Marrus', 'Michale Graves', 'Michele Bianchi', \"Mid'hat Frashëri\", 'Middle America (United States)', 'Mihail Manoilescu', 'Mike Enoch', 'Mikhail Gorbachev', 'Mikhail Oktan', 'Milan Stojadinović', 'Militarism', 'Military career of Adolf Hitler', 'Minister of Foreign Affairs (Hungary)', 'Minister without portfolio', 'Ministry of Aviation (Nazi Germany)', 'Ministry of Public Enlightenment and Propaganda', 'Ministry of the Reichswehr', 'Mladorossi', 'Mocidade Portuguesa', 'Model of masculinity under fascist Italy', 'Mohammad Mosaddegh', 'Mohsen Pezeshkpour', 'Moloch (1999 film)', 'Molotov–Ribbentrop Pact', 'Monorchism', 'Morenazi', 'Morning coat', 'Mother Teresa', 'Mouvement Franciste', \"Mouvement d'Action Civique\", 'Muhammad Ali', 'Munich', 'Munich Agreement', 'Munich Documentation Centre for the History of National Socialism', 'Murder of Jeff Hall', 'Muslim Association of the Lictor', 'Muslim Rashtriya Manch', 'Mustafa Merlika-Kruja', 'Mustard gas', 'My Autobiography (Mussolini book)', 'My Life (Mosley autobiography)', 'Mykola Lebed', 'Münchener Beobachter', 'NATO', 'NSDAP/AO', 'NSDAP Office of Colonial Policy', 'NSDAP Office of Foreign Affairs', 'NSDAP Office of Military Policy', 'Nacionalismo', 'Nacionalismo (Argentine political movement)', 'Nae Ionescu', 'Narendra Modi', \"Nash Put' (newspaper)\", 'Nasjonal Samling', 'Nasyonal Aktivite ve Zinde İnkişaf', 'Nataliya Vitrenko', 'Nathuram Godse', 'Nation Europa', 'Nation Party of Iran', 'Nation of Islam and antisemitism', 'National-Christian Defense League', 'National-anarchism', 'National Action (Australia)', 'National Action (UK)', 'National Agrarian Party', 'National Alliance (Spain)', 'National Alliance (Sweden)', 'National Alliance (United States)', 'National Alliance July 18', 'National Bolshevik Front', 'National Bolshevik Party', 'National Bolshevism', 'National Christian Party', 'National Corporate Party', 'National Democracy (Italy)', 'National Democracy (Spain)', 'National Democratic Party (Austria)', 'National Democratic Party of Germany', 'National Democrats Party', 'National Fascist Community', 'National Fascist Movement', 'National Fascist Party', 'National Fascist Party (Argentina)', 'National Fascist Union', 'National Fascisti', 'National Front (Hungary)', 'National Front (Spain, 1986)', 'National Front (Spain, 2006)', 'National Front (Switzerland)', 'National Front (UK)', 'National Italo-Romanian Cultural and Economic Movement', 'National League of Sweden', 'National Liberation Movement (Guatemala)', 'National Movement of Switzerland', 'National Party of Europe', 'National Party – Greeks', 'National Policy Institute', 'National Political Institutes of Education', 'National Popular Consciousness', 'National Popular Rally', 'National Pro Patria Party', 'National Radical Camp', 'National Rally', 'National Renaissance Front', 'National Renaissance Party (United States)', 'National Republican Guard (Italy)', 'National Revival of Poland', 'National Romanian Fascio', 'National Salvation Front (Russia)', 'National Social Movement', 'National Socialism / White Power', 'National Socialism Association', 'National Socialist Bloc', 'National Socialist Dutch Workers Party', 'National Socialist Flyers Corps', 'National Socialist Freedom Movement', 'National Socialist Front', \"National Socialist German Doctors' League\", \"National Socialist German Students' League\", \"National Socialist German Workers' Party\", \"National Socialist Japanese Workers' Party\", 'National Socialist League', 'National Socialist League of the Reich for Physical Exercise', 'National Socialist Legion', 'National Socialist Liberation Front', 'National Socialist Motor Corps', 'National Socialist Movement (UK, 1962)', 'National Socialist Movement (United Kingdom)', 'National Socialist Movement (United States)', 'National Socialist Movement in the Netherlands', 'National Socialist Movement of Chile', 'National Socialist Movement of Norway', 'National Socialist Network', 'National Socialist Party (Romania)', 'National Socialist Party of Australia', 'National Socialist Patriotic Organisation', 'National Socialist Program', 'National Socialist Society', 'National Socialist Union of Finland', \"National Socialist Women's League\", \"National Socialist Workers' Party (Sweden)\", \"National Socialist Workers' Party of Denmark\", 'National Socialist Working Association', 'National Socialists of Finland', \"National States' Rights Party\", 'National Synarchist Union', 'National Syndicalists (Portugal)', 'National Union (Italy, 1923)', 'National Union (Netherlands)', 'National Union (Portugal)', 'National Union (Spain)', 'National Union (Switzerland)', 'National Unity Party (Canada)', 'National Unity Party of Canada', 'National Universitary Concentration', 'National Vanguard (American organization)', 'National Will Party', 'National Youth', 'National Youth (Italy)', 'National Youth Alliance', 'National Youth Organisation (Greece)', 'National syndicalism', 'Nationale Jeugdstorm', 'Nationalism', 'Nationalist Front (Germany)', 'Nationalist Front (United States)', 'Nationalist Front of Mexico', 'Nationalist Liberation Alliance', 'Nationalist Movement Party', 'Nationalist Party (Iceland)', 'Nationalist Social Club-131', 'Nationalist Task Party', 'Nationalsozialistische Monatshefte', 'Naturalization of Adolf Hitler', 'Nazi-Maoism', 'Nazi Germany', 'Nazi Party', 'Nazi Party/Foreign Organization', 'Nazi Party Chancellery', 'Nazi Party Office of Racial Policy', 'Nazi Party Rally Grounds', 'Nazi architecture', 'Nazi concentration camps', 'Nazi crimes against the Polish nation', 'Nazi eugenics', 'Nazi ghettos', 'Nazi human experimentation', 'Nazi racial theories', 'Nazi songs', 'Nazism', 'Nazism and cinema', 'Nazism and the Wehrmacht', 'Nazism in Sweden', 'Nelson Mandela', 'Neo-Legionarism', 'Neo-Nazism', 'Neo-Nazism in Russia', 'Neo-fascism', 'Neosocialism', 'Neue Anthropologie', 'Neues Volk', 'Neville Chamberlain', 'New Force (Italy)', 'New Force (Spain)', 'New Guard', 'New Life Movement', 'New Man (utopian concept)', 'New Order (Germany)', 'New Order (Nazism)', 'New Party (UK)', 'New Triumph Party', 'New antisemitism', 'Newt Gingrich', 'Nexus Task Force', 'Nichifor Crainic', 'Nick Fuentes', 'Nick Griffin', 'Nicolaus von Below', 'Nicolás Rodríguez Carrasco', 'Night of the Long Knives', 'Nikita Khrushchev', 'Nikolaos Michaloliakos', 'Nine Lights Doctrine', 'Nipster', 'Non-aggression pact', 'Nordic League', 'Nordic Resistance Movement', 'Nordicism', 'Norsk-Tysk Tidsskrift', 'North African campaign', 'North German Confederation', 'Northern League (United Kingdom)', 'Nouvelle Droite', 'November 1932 German federal election', 'November 1933 German parliamentary election', 'Novopress', 'Nuremberg', 'Nuremberg Laws', 'Nuremberg rallies', 'Nuremberg trials', 'Nástup', 'OCLC (identifier)', 'ODESSA', 'OPROP!', 'Oberkommando der Wehrmacht', 'Oberkommando des Heeres', 'Obersalzberg', 'Oberster Führer der Schutzstaffel', 'Occidental Observer', 'Occupation of Czechoslovakia (1938–1945)', 'Occupy Pedophilia', 'Oceania', 'Octavian Goga', 'Office of Strategic Services', 'Official National Front', 'Olaf Scholz', 'Oleh Tyahnybok', 'Olympia (1938 film)', 'On the Jews and Their Lies', 'One-party state', 'Open Library', 'Opera Nazionale Balilla', 'Operation Barbarossa', 'Operation Overlord', 'Operation Sea Lion', 'Operation Sonnenblume', 'Operation Valkyrie', 'Operation Weserübung', 'Opiate', 'Oprah Winfrey', 'Order of Flemish Militants', 'Order of Nine Angles', 'Organisation of National Socialists', 'Organiser (magazine)', 'Organization of Ukrainian Nationalists', 'Orthodox Peronism', 'Osama bin Laden', 'Ossewabrandwag', 'Ostmärkische Sturmscharen', 'Oswald Mosley', 'Otto Abetz', 'Otto Ernst Remer', 'Otto Georg Thierack', 'Otto Günsche', 'Otto Meissner', 'Otto Planetta', 'Otto Skorzeny', 'Otto Strasser', 'Otto von Bismarck', 'Otto von Lossow', 'Otzma Yehudit', 'Our Race Will Rule Undisputed Over The World', 'Owen D. Young', 'Oxford University Press', 'PMID (identifier)', 'Pablo Emilio Madero', 'Pablo Picasso', 'Pacifism', 'Pact of Steel', 'Paintings by Adolf Hitler', 'Pale of Settlement', 'Palestine Arab Party', 'Palingenetic ultranationalism', 'Pamyat', 'Pan-Germanic', 'Pan-Germanism', 'Pan-Iranist Party', 'Panchjanya (magazine)', 'Panzerbär', 'Paolo Boselli', 'Para-fascism', \"Parkinson's disease\", 'Parliamentary republic', 'Parole der Woche', 'Parti Communautaire National-Européen', 'Party of Finnish Labor', 'Party of the Swedes', 'Pasewalk', 'Passau', 'Patriot Front', 'Patriot Front (Argentina)', 'Patriotic Alliance (Greece)', 'Patriotic Alternative', \"Patriotic People's Movement\", \"Patriotic People's Movement (1993)\", 'Patrol 36', 'Paul Déroulède', 'Paul Freiherr von Eltz-Rübenach', 'Paul von Hindenburg', 'Paula Hitler', 'Pavel Gubarev', 'Peace for our time', 'Pearl Harbor', 'Pedro Pablo Ramírez', 'Pelé', 'Penguin Books', \"People's Court (Bavaria)\", \"People's Party (interwar Romania)\", \"People's Party Our Slovakia\", 'Perpetual war', \"Persecution of Jehovah's Witnesses in Nazi Germany\", 'Persecution of Jews', 'Persecution of Jews during the Black Death', 'Persecution of homosexuals in Nazi Germany', 'Personal computer', 'Pete Rozelle', 'Peter Högl', 'Peter Longerich', 'Peter Ueberroth', 'Phalange Française', 'Philipp Scheidemann', 'Philippe Pétain', 'Philippine Falange', 'Philo Farnsworth', 'Philosemitism', 'Phoney War', 'Pierre Daye', 'Pierre Drieu La Rochelle', 'Pierre Laval', 'Pierre Stephen Robert Payne', 'Pierre Vial', 'Pietro Badoglio', 'Pincer attack', 'Pino Rauti', 'Plaek Phibunsongkhram', 'Plymouth', 'Plínio Salgado', 'Pogrom', 'Pogroms during the Russian Civil War', 'Pogroms in the Russian Empire', 'Polemic', 'Polish Corridor', 'Political views of Adolf Hitler', 'Pope Francis', 'Pope John Paul II', 'Pope John XXIII', 'Popular Dignity', 'Popular Force Party', 'Popular Freedom Alliance', 'Popular Representation Party', 'Popular Socialist Vanguard', 'Populism', 'Populists', 'Porajmos', 'Positive Christianity', 'Possible monorchism of Adolf Hitler', 'Post-fascism', 'Potassium bromide', 'Potsdam', 'Prague Castle', 'President of Germany (1919–1945)', 'President of the Reichstag', 'Presumption of death', 'Prince Maximilian of Baden', 'Princeton University Press', 'Progress Party (Iran)', 'Progressive Nationalist Party', 'Progressive Socialist Party of Ukraine', 'Proletarian nation', 'Propaganda', 'Propaganda in Nazi Germany', 'Protectorate of Bohemia and Moravia', 'Protest', 'Protestantische Rompilger', 'Protestantism', 'Proto-fascism', 'Proud Boys', 'Prussia', 'Prussianism', 'Psychopath', 'Psychopathography of Adolf Hitler', 'Putinism', 'Pērkonkrusts', 'QAnon', 'Quadrumvirs', 'R. J. Rummel', 'Rachel Carson', 'Racial antisemitism', 'Racial hygiene', 'Racial nationalism', 'Racial policies of the Third Reich', 'Racial policy of Nazi Germany', 'Racial segregation', 'Racism', 'Racism in the State of Palestine', 'Radasłaŭ Astroŭski', 'Rafael Boban', 'Rafael Sánchez Mazas', 'Raimundo Fernández-Cuesta', 'Ralph Manheim', 'Ram Janmabhoomi Nyas', 'Ramiro Ledesma Ramos', 'Ramón Serrano Suñer', 'Ranks and insignia of the Nazi Party', 'Rashid Ali al-Gaylani', 'Rashtra Sevika Samiti', 'Rashtriya Sikh Sangat', 'Rashtriya Swayamsevak Sangh', 'Rassenschande', 'Rastakhiz Party', 'Rastenburg', 'Rastriya Prajatantra Party', 'Ratniks', 'Ray Kroc', 'Raza (film)', 'Reactionary modernism', 'Realschule', 'Reclaim Australia', 'Rector (academia)', 'Red Army', 'Red Ice', 'Red fascism', 'Red–green–brown alliance', 'Rees, Laurence', 'Reform bureaucrats', 'Refusenik', 'Reich Chancellery', 'Reich Ministry for the Occupied Eastern Territories', 'Reich Ministry of Armaments and War Production', 'Reich Ministry of Education', 'Reich Ministry of Food and Agriculture', 'Reich Ministry of Transport', 'Reichsführer SS', 'Reichsgau Danzig-West Prussia', 'Reichsgau Wartheland', 'Reichsrat (Germany)', 'Reichstag (Weimar Republic)', 'Reichstag Fire Decree', 'Reichstag fire', 'Reichswehr', 'Reinhard Heydrich', 'Reinhold Hanisch', 'Religion in Japan', 'Religion in Nazi Germany', 'Religious Zionist Party', 'Religious antisemitism', 'Religious segregation', 'Religious views of Adolf Hitler', 'Remilitarization of the Rhineland', 'Renato Ricci', 'Renegade Tribune', 'René Lagrou', 'Republic (Slovakia)', 'Republic of China (1912–49)', 'Republican Fascist Party', 'Republican League', 'Republican Social Movement', 'Republicanism', 'Resistance Records', 'Responses to the West African Ebola virus epidemic', 'Revisionist Maximalism', 'Revolutionary Mexicanist Action', 'Revolutionary Union (Peru)', \"Revue d'histoire du fascisme\", 'Rexist Party', 'Rhineland', 'Rhineland massacres', 'Richard B. Spencer', 'Richard Bonney', 'Richard Butler (white supremacist)', 'Richard J. Evans', 'Richard Nixon', 'Richard Overy', 'Richard Rodgers and Oscar Hammerstein', 'Richard Steigmann-Gall', 'Richard Wagner', 'Richard Walther Darré', 'Richard von Weizsäcker', 'Rick Wiles', 'Right-wing terrorism', 'Right Club', 'Rise Above Movement', 'Rising Finland', 'Risto Orko', 'Robert Brasillach', 'Robert Burns Woodward', 'Robert G. L. Waite', 'Robert Gellately', 'Robert H. Goddard', 'Robert Heinrich Wagner', 'Robert Kee', 'Robert Ley', 'Robert Michels', 'Robert Poulet', 'Robert Ritter von Greim', \"Roberto D'Aubuisson\", 'Rochus Misch', 'Rodobrana', 'Rodolfo Graziani', 'Roger Manvell', 'Roger Moorhouse', 'Roger Pearson (anthropologist)', 'Roland Freisler', 'Roman Herzog', 'Roman Shukhevych', 'Roman salute', 'Romani genocide', 'Romanian Front', 'Ron Rosenbaum', 'Ron Unz', 'Ronald Reagan', 'Rootless cosmopolitan', 'Roque González Garza', 'Rosa Parks', 'Roy Frankhouser', 'Royal Air Force', 'Rudolf Diels', 'Rudolf Hess', 'Rudolf Höss', 'Rudolf Rahn', 'Rudolf Schmundt', 'Rudolf Weiss', 'Rudolf von Sebottendorf', 'Rudolph Rummel', 'Rudy Giuliani', 'Ruhollah Khomeini', 'Runner (soldier)', 'Ruptured eardrum', 'Ruscism', 'Rusich Group', 'Russian Fascist Organization', 'Russian Fascist Party', 'Russian Imperial Movement', 'Russian National Unity', 'Russian National Unity (2000)', \"Russian Women's Fascist Movement\", 'Ryōichi Sasakawa', 'Révolution nationale', 'Röhm scandal', 'S14 (Ukrainian group)', 'S2CID (identifier)', 'SS Education Office', 'SUMKA', 'Saarbrücken', 'Saarland', 'Sabine Bergmann-Pohl', 'Saburō Kurusu', 'Sacraments of the Catholic Church', 'Sadao Araki', 'Saint-Loup (writer)', 'Sakurakai', 'Salients, re-entrants and pockets', 'Salome Karwah', 'Salvador Abascal', 'Salzburg', 'Sam Walton', 'Sammarinese Fascist Party', 'Samoan branch of the Nazi Party', 'Samuel W. Mitcham', 'Sangh Parivar', 'Sansepolcrismo', 'Saudi Arabian textbook controversy', 'Savitri Devi', 'Scapegoat', 'Schutzstaffel', 'Scientific racism', 'Scipio Africanus: The Defeat of Hannibal', 'Scorched earth', 'Scottish Democratic Fascist Party', 'Scottish Protestant League', 'Sebastian Haffner', 'Sección Femenina', 'Second battle of El Alamein', 'Secondary antisemitism', 'Serbian Action', 'Serbian Radical Party', 'Serbian Volunteer Corps (World War II)', 'Sergey Kuryokhin', 'Sergio Panunzio', 'Seva Bharati', 'Seward Collins', 'Sexuality of Adolf Hitler', 'Sfarmă-Piatră', 'Sherron Watkins', 'Shigeru Honjō', \"Shigeru Mizuki's Hitler\", 'Shirō Nonaka', 'Shōwa Restoration', 'Shūmei Ōkawa', 'Sicarii (1989)', 'Sich Battalion', 'Siege (Mason book)', 'Siege of Leningrad', 'Siegfried Knappe', 'Sigmund Freud', 'Signal (magazine)', 'Silver Legion of America', 'Simon Wiesenthal Center', 'Sindicato Español Universitario', 'Siniristi', 'Sino-German cooperation until 1941', 'Skin lesion', 'Slavko Kvaternik', 'Slavs', \"Slovak People's Party\", 'Slovak Republic (1939–1945)', 'Slánský trial', 'Social Darwinism', 'Social Democratic Party of Germany', 'Social fascism', 'Social interventionism', 'Social order', 'Socialist', 'Socialist Reich Party', 'Soong Mei-ling', 'Sorelianism', 'Sosism', 'South African Gentile National Socialist Movement', 'Southern Poverty Law Center', 'Spanish Civil War', 'Spanish Inquisition', 'Spanish Military Union', 'Spearhead (magazine)', 'Srećko Rover', 'Stab-in-the-back myth', 'Stabschef SA', 'Staf Declercq', 'Stars and Stripes (newspaper)', 'State capitalism', 'Statelessness', 'Statism in Shōwa Japan', 'Statolatry', 'Stepan Bandera', 'Stephen Bechtel Sr.', 'Stephen Roth Institute', 'Steven Spielberg', 'Steyr', 'StoneToss', 'Stormers (Finland)', 'Stormfront (website)', 'Strasserism', 'Student Action (Italy)', 'Stunde Null', 'Sturmabteilung', 'Subhas Chandra Bose', 'Sudeten German Party', 'Sudeten Germans', 'Sudetendeutsches Freikorps', 'Sudetenland', 'Suez Canal', 'Supercapitalism', 'Supreme Commander of the German Army', 'Supreme SA Leader', 'Survival of the fittest', 'Susan Brownmiller', 'Susie Sharp', 'Svoboda (political party)', 'Swastika', 'Swedish Committee Against Antisemitism', 'Syama Prasad Mukherjee', 'Symon Petliura', 'Synarchism', 'Syncretic politics', 'Syngman Rhee', 'Syphilis', 'Syrian Social Nationalist Party', 'Szeged Idea', 'T. S. Eliot', 'Tacuara Nationalist Movement', 'Tag der Freiheit: Unsere Wehrmacht', 'Tank Man', 'Taylor Swift', 'Techno-fascism', 'Ted Turner', 'Tenzing Norgay', 'Terre et Peuple', 'Terror Against Terror', 'Terrorgram', 'Terza Posizione', 'The American Review (literary journal)', 'The Barnes Review', 'The Base (hate group)', 'The Beatles', 'The Blackshirt', 'The Blitz', 'The Britons', 'The Bunker (book)', 'The Coming of the Third Reich', 'The Culture of Critique series', 'The Daily Stormer', 'The Daily Telegraph', 'The Daughter of the Samurai', 'The Dearborn Independent', 'The Doctrine of Fascism', 'The European (1953 magazine)', 'The Fourth Political Theory', 'The Führer', 'The Globe and Mail', 'The Great Appeal', 'The Guardian', 'The Historical Journal', 'The Holocaust', 'The International Jew', 'The Journal of Modern History', 'The Last Will of a Russian Fascist', 'The Light (newspaper)', 'The Link (UK organization)', 'The Meaning of Hitler', 'The Mind of Adolf Hitler', 'The Myth of the Twentieth Century', 'The Nazis: A Warning from History', 'The Nordic Realm Party', 'The Old Guard (1934 film)', 'The Order (white supremacist group)', 'The Other Russia of E. V. Limonov', 'The Protocols of the Elders of Zion', 'The Psychopathic God: Adolf Hitler', 'The Right (Germany)', 'The Right (Italy)', 'The Right Stuff (blog)', 'The Rise and Fall of the Third Reich', 'The Secret Relationship Between Blacks and Jews', 'The Siege of the Alcazar', 'The Third Reich At War', 'The Third Reich in Power', 'The Turner Diaries', 'The Victory of Faith', 'Theater (warfare)', 'Theobald von Bethmann Hollweg', 'Theodor Fritsch', 'Theodor Heuss', 'Theodor Morell', 'Theodor von Dufving', 'Theodore Roosevelt', 'Third Position', 'Third Way (France)', 'Third Way (Germany)', 'Third Way (UK organisation)', 'Thomas J. Watson Jr.', 'Three Ds of antisemitism', 'Thule Society', 'Tim Berners-Lee', 'Time (magazine)', 'Time 100: The Most Important People of the Century', 'Time Person of the Year', 'Timeline of antisemitism', 'Timothy D. Snyder', 'Tinnitus', 'Tom Metzger', 'Toothbrush moustache', 'Total war', 'Totalitarianism', 'Trade unions in Germany', 'Traditionalist Worker Party', 'Traudl Junge', 'Treaty of Versailles', 'Tricolour Flame', 'Tripartite Pact', 'Triple parentheses', 'Triumph des Willens', 'Triumph of the Will', 'Troy Southgate', 'TruNews', 'True Blue Crew', 'Trumpism', 'Tsagaan Khas', 'Turkish Union Party (Northern Cyprus)', 'Türkische Post', 'Tōhōkai', 'U.S. National Strategy to Counter Antisemitism', 'UN Watch', 'Ugo Spirito', 'Ukraine', 'Ukrainian Insurgent Army', \"Ukrainian People's Militsiya\", 'Ukrainians', 'Ulas Samchuk', 'Ulrich Graf', 'Ultranationalism', 'Unidad Falangista Montañesa', 'Union Movement', 'Union of Bulgarian National Legions', 'Union of Councils for Soviet Jews', 'Union of Fascist Little Ones', 'Union of Young Fascists – Vanguard (boys)', 'Union of Young Fascists – Vanguard (girls)', 'United Hungarian National Socialist Party', 'United Nations War Crimes Commission', 'United Patriots Front', 'United States Holocaust Memorial Museum', 'Universities and antisemitism', 'Untermensch', 'Untermenschen', 'Unto Varjonen', 'Uri Zvi Greenberg', 'Ustaše', 'Ustaše Militia', 'Ustaše Youth', 'Ustaše in Australia', 'Vairas', 'Vanavasi Kalyan Ashram', 'Vanguard America', 'Varg Vikernes', 'Verdinaso', 'Veterans Today', 'Vice-Chancellor of Germany', 'Victor Emmanuel III', 'Vidkun Quisling', 'Vidya Bharati', 'Vienna', 'Views of Lyndon LaRouche and the LaRouche movement', 'Vigrid (Norway)', 'Vihtori Kosola', 'Viktor Pavičić', 'Vilho Helanen', 'Vinayak Damodar Savarkar', 'Vishva Hindu Parishad', 'Vjekoslav Luburić', 'Vjekoslav Servatzy', 'Vlaamsch Nationaal Verbond', 'Vladimir Lenin', 'Vladimir Linderman', 'Vladimir Putin', 'Vladimir Zhirinovsky', 'Vlajka', 'Vojislav Šešelj', 'Volk en Staat', 'Volksdeutsche Bewegung', 'Volksfront', 'Volksgemeinschaft', 'Volkskörper', 'Volksschule', 'Volkssozialistische Bewegung Deutschlands/Partei der Arbeit', 'Volkssport', 'Volkssturm', 'Volodymyr Zelenskyy', 'Vorbunker', 'Vyacheslav Molotov', 'Völkisch', 'Völkisch equality', 'Völkisch movement', 'Völkischer Beobachter', 'W. W. Norton & Company', 'Wa Lone', 'Waffen-SS', 'Wagner', 'Wagner Group', 'Wall Street Crash of 1929', 'Wallis Simpson', 'Walloon Guard', 'Walloon Legion', 'Walt Disney', 'Walter Charles Langer', 'Walter Chrysler', 'Walter Frentz', 'Walter Pfrimer', 'Walter Reuther', 'Walter Scheel', 'Walter Scherff', 'Walter Ulbricht', 'Walter Wagner (notary)', 'Walter Warlimont', 'Walther Buhle', 'Walther Funk', 'Walther Hewel', 'Walther von Brauchitsch', 'Wang Jingwei', 'Wannsee Conference', 'War criminal', 'Ward Hermans', 'Weerbaarheidsafdeling', 'Wehrmacht', 'Weimar Republic', 'Well poisoning', 'Welthauptstadt Germania', 'Werner Best', 'Werner Haase', 'Werner Naumann', 'Werner Schwiedel', 'Werner von Blomberg', 'Werner von Fritsch', 'Werwolf', 'Werwolf (Wehrmacht headquarters)', 'Western Allies', 'Western Bloc', 'Western Front (World War I)', 'Western Front (World War II)', 'Westland New Post', 'White Aryan Resistance', 'White Aryan Resistance (Sweden)', 'White Shirts Society', 'White genocide conspiracy theory', 'White émigré', 'Who Are the Mind Benders?', 'Wiener Holocaust Library', 'Wiking-Jugend', 'Wilhelm Brückner', 'Wilhelm Burgdorf', 'Wilhelm Cuno', 'Wilhelm Frick', 'Wilhelm Gustloff', 'Wilhelm II', 'Wilhelm Keitel', 'Wilhelm Marx', 'Wilhelm Miklas', 'Wilhelm Mohnke', 'Wilhelm Ohnesorge', 'Wilhelm Pieck', 'Wilhelm Zander', 'Wilhelmshaven', 'Willard Libby', 'Willi Stoph', 'William Anders', 'William Carr (historian)', 'William Dudley Pelley', 'William I, German Emperor', 'William Joyce', 'William L. Shirer', 'William Levitt', 'William Luther Pierce', 'William Shockley', 'William Stuart-Houston', 'William Westmoreland', 'Williamson Murray', 'Willis Carrier', 'Willis Carto', 'Willy Brandt', 'Willy Johannmeyer', 'Winston Churchill', 'Wochenspruch der NSDAP', \"Wolf's Lair\", 'Wolfsschlucht I', 'Wolfsschlucht II', 'Women in Nazi Germany', 'Working definition of antisemitism', 'World Disarmament Conference', 'World Union of National Socialists', 'World War I', 'World War II', 'World War II casualties', 'Wotansvolk', 'Wound Badge', 'Wounded in action', 'Wright brothers', 'Xenophobia and racism related to the COVID-19 pandemic', 'Yaakov Heruti', 'Yad Vashem', 'Yad Vashem. The World Holocaust Remembrance Center', 'Yaroslav Stetsko', 'Yasser Arafat', 'Yegor Letov', 'Yehoshua Yeivin', 'Yehuda Bauer', 'Yellow badge', 'Yitzhak Rabin', 'Yokusan Sonendan', 'Yoshio Kodama', 'You (Time Person of the Year)', 'Young Egypt Party (1933)', 'Youth Front', 'Yugoslav National Movement', 'Yugoslav Radical Union', 'Yuri Andropov', 'Yōsuke Matsuoka', 'Zakhar Prilepin', 'Ziaism', 'Zionist Occupation Government conspiracy theory', 'Zionist antisemitism', 'Édouard Daladier', 'Édouard Drumont', 'Österreichisches Jungvolk', 'Żydokomuna', 'Wikipedia:Contents/Portals', 'Wikipedia:Good articles*', 'Wikipedia:Media help', 'Wikipedia:Protection policy', 'Wikipedia:Spoken articles', 'Wikipedia:Wikimedia sister projects', 'File:Adolf Hitler’s last speech.ogg', 'File:EN-Adolf Hitler-article.ogg', 'Template:Adolf Hitler', 'Template:Adolf Hitler series', 'Template:Antisemitism sidebar', 'Template:Chancellors of Germany', 'Template:Fascism', 'Template:Final occupants of the Führerbunker', 'Template:Heads of State of Germany', \"Template:Hitler's Cabinet\", 'Template:Marriage', 'Template:Marriage/doc', 'Template:NSDAP', 'Template:Nazism', 'Template:Nazism sidebar', 'Template:People killed or wounded in the 20 July plot', 'Template:Time 100: The Most Important People of the Century', 'Template:Time Persons of the Year', 'Template talk:Adolf Hitler', 'Template talk:Adolf Hitler series', 'Template talk:Antisemitism sidebar', 'Template talk:Chancellors of Germany', 'Template talk:Fascism', 'Template talk:Final occupants of the Führerbunker', 'Template talk:Heads of State of Germany', \"Template talk:Hitler's Cabinet\", 'Template talk:NSDAP', 'Template talk:Nazism', 'Template talk:People killed or wounded in the 20 July plot', 'Template talk:Time 100: The Most Important People of the Century', 'Template talk:Time Persons of the Year', 'Help:Authority control', 'Help:IPA/Standard German', 'Category:Adolf Hitler', 'Category:Antisemitic publications', 'Category:Antisemitism', 'Category:Articles with BIBSYS identifiers', 'Category:Articles with BMLO identifiers', 'Category:Articles with BNC identifiers', 'Category:Articles with BNE identifiers', 'Category:Articles with BNF identifiers', 'Category:Articles with BNFdata identifiers', 'Category:Articles with CANTICN identifiers', 'Category:Articles with CINII identifiers', 'Category:Articles with DTBIO identifiers', 'Category:Articles with EMU identifiers', 'Category:Articles with FAST identifiers', 'Category:Articles with GND identifiers', 'Category:Articles with HDS identifiers', 'Category:Articles with ICCU identifiers', 'Category:Articles with ISNI identifiers', 'Category:Articles with J9U identifiers', 'Category:Articles with KANTO identifiers', 'Category:Articles with KBR identifiers', 'Category:Articles with KULTURNAV identifiers', 'Category:Articles with LCCN identifiers', 'Category:Articles with LNB identifiers', 'Category:Articles with Libris identifiers', 'Category:Articles with NARA identifiers', 'Category:Articles with NCL identifiers', 'Category:Articles with NDL identifiers', 'Category:Articles with NKC identifiers', 'Category:Articles with NLA identifiers', 'Category:Articles with NLG identifiers', 'Category:Articles with NLK identifiers', 'Category:Articles with NLR identifiers', 'Category:Articles with NSK identifiers', 'Category:Articles with NTA identifiers', 'Category:Articles with ORCID identifiers', 'Category:Articles with PLWABN identifiers', 'Category:Articles with PortugalA identifiers', 'Category:Articles with RISM identifiers', 'Category:Articles with RKDartists identifiers', 'Category:Articles with RSL identifiers', 'Category:Articles with SNAC-ID identifiers', 'Category:Articles with SUDOC identifiers', 'Category:Articles with TePapa identifiers', 'Category:Articles with Trove identifiers', 'Category:Articles with ULAN identifiers', 'Category:Articles with VIAF identifiers', 'Category:Articles with VcBA identifiers', 'Category:Articles with WorldCat Entities identifiers', 'Category:EngvarB from September 2018', 'Category:Fascism', 'Category:Nazi parties', 'Category:Nazi war crimes', 'Category:Nazis', 'Category:Nazism', 'Category:Use dmy dates from December 2023', 'Category:Use shortened footnotes from February 2021', 'Portal:Genocide', 'Portal:Germany', 'Portal:Politics']\n"
          ]
        }
      ]
    },
    {
      "cell_type": "code",
      "source": [
        "# Initialize a list to store page titles\n",
        "pages = []\n",
        "\n",
        "# Fetch the page for Adolf Hitler\n",
        "page = wiki_wiki.page('Adolf Hitler')\n",
        "\n",
        "# Get the links (titles of linked pages)\n",
        "links = page.links\n",
        "\n",
        "# Iterate over the linked page titles\n",
        "for link in links:\n",
        "    pages.append(link)  # 'link' is already a string, no need to call title()\n",
        "\n",
        "# Now find paths for each linked page\n",
        "for page_title in pages:\n",
        "    find_path(wiki_wiki.page(page_title))\n"
      ],
      "metadata": {
        "id": "UG6oD5jiGyZo",
        "colab": {
          "base_uri": "https://localhost:8080/",
          "height": 532
        },
        "collapsed": true,
        "outputId": "0d68cf46-129d-4d64-a34d-f34cd7455479"
      },
      "execution_count": 564,
      "outputs": [
        {
          "output_type": "stream",
          "name": "stdout",
          "text": [
            "SortedDict({'/pol/': ['Political discussion', 'Imageboard', '4chan', 'Internet culture', 'Far-right extremism', 'Racism']})\n",
            "SortedDict({'/pol/': ['Political discussion', 'Imageboard', '4chan', 'Internet culture', 'Far-right extremism', 'Racism'], 'Political discussion': []})\n",
            "This Path Is Dead End\n",
            "Found my way to Philosophy!\n",
            "SortedDict({'/pol/': ['Political discussion', 'Imageboard', '4chan', 'Internet culture', 'Far-right extremism', 'Racism'], '1776 Returns': ['Proud Boys', 'Enrique Tarrio', 'January 6 United States Capitol attack'], 'Political discussion': []})\n",
            "SortedDict({'/pol/': ['Political discussion', 'Imageboard', '4chan', 'Internet culture', 'Far-right extremism', 'Racism'], '1776 Returns': ['Proud Boys', 'Enrique Tarrio', 'January 6 United States Capitol attack'], 'Political discussion': [], 'Proud Boys': ['Far-right politics', 'Neo-fascism', 'Militant organization', 'Political violence', 'Federal government of the United States', 'Terrorism']})\n",
            "SortedDict({'/pol/': ['Political discussion', 'Imageboard', '4chan', 'Internet culture', 'Far-right extremism', 'Racism'], '1776 Returns': ['Proud Boys', 'Enrique Tarrio', 'January 6 United States Capitol attack'], 'Far-right politics': ['Ultraconservatism', 'Ultranationalism', 'Authoritarianism', 'Nativism (politics)', 'Left%E2%80%93right political spectrum', 'Political right'], 'Political discussion': [], 'Proud Boys': ['Far-right politics', 'Neo-fascism', 'Militant organization', 'Political violence', 'Federal government of the United States', 'Terrorism']})\n",
            "SortedDict({'/pol/': ['Political discussion', 'Imageboard', '4chan', 'Internet culture', 'Far-right extremism', 'Racism'], '1776 Returns': ['Proud Boys', 'Enrique Tarrio', 'January 6 United States Capitol attack'], 'Far-right politics': ['Ultraconservatism', 'Ultranationalism', 'Authoritarianism', 'Nativism (politics)', 'Left%E2%80%93right political spectrum', 'Political right'], 'Political discussion': [], 'Proud Boys': ['Far-right politics', 'Neo-fascism', 'Militant organization', 'Political violence', 'Federal government of the United States', 'Terrorism'], 'Ultraconservatism': ['Conservative', 'Far-right', 'Political spectrum', 'Political moderate', 'Fringe parties', 'Anti-globalism']})\n",
            "SortedDict({'/pol/': ['Political discussion', 'Imageboard', '4chan', 'Internet culture', 'Far-right extremism', 'Racism'], '1776 Returns': ['Proud Boys', 'Enrique Tarrio', 'January 6 United States Capitol attack'], 'Conservative': [], 'Far-right politics': ['Ultraconservatism', 'Ultranationalism', 'Authoritarianism', 'Nativism (politics)', 'Left%E2%80%93right political spectrum', 'Political right'], 'Political discussion': [], 'Proud Boys': ['Far-right politics', 'Neo-fascism', 'Militant organization', 'Political violence', 'Federal government of the United States', 'Terrorism'], 'Ultraconservatism': ['Conservative', 'Far-right', 'Political spectrum', 'Political moderate', 'Fringe parties', 'Anti-globalism']})\n",
            "This Path Is Dead End\n",
            "Found my way to Philosophy!\n"
          ]
        },
        {
          "output_type": "error",
          "ename": "KeyboardInterrupt",
          "evalue": "",
          "traceback": [
            "\u001b[0;31m---------------------------------------------------------------------------\u001b[0m",
            "\u001b[0;31mKeyboardInterrupt\u001b[0m                         Traceback (most recent call last)",
            "\u001b[0;32m<ipython-input-564-4e197e396edb>\u001b[0m in \u001b[0;36m<cell line: 15>\u001b[0;34m()\u001b[0m\n\u001b[1;32m     14\u001b[0m \u001b[0;31m# Now find paths for each linked page\u001b[0m\u001b[0;34m\u001b[0m\u001b[0;34m\u001b[0m\u001b[0m\n\u001b[1;32m     15\u001b[0m \u001b[0;32mfor\u001b[0m \u001b[0mpage_title\u001b[0m \u001b[0;32min\u001b[0m \u001b[0mpages\u001b[0m\u001b[0;34m:\u001b[0m\u001b[0;34m\u001b[0m\u001b[0;34m\u001b[0m\u001b[0m\n\u001b[0;32m---> 16\u001b[0;31m     \u001b[0mfind_path\u001b[0m\u001b[0;34m(\u001b[0m\u001b[0mwiki_wiki\u001b[0m\u001b[0;34m.\u001b[0m\u001b[0mpage\u001b[0m\u001b[0;34m(\u001b[0m\u001b[0mpage_title\u001b[0m\u001b[0;34m)\u001b[0m\u001b[0;34m)\u001b[0m\u001b[0;34m\u001b[0m\u001b[0;34m\u001b[0m\u001b[0m\n\u001b[0m",
            "\u001b[0;32m<ipython-input-560-92337d64ca5e>\u001b[0m in \u001b[0;36mfind_path\u001b[0;34m(initial_page)\u001b[0m\n\u001b[1;32m      7\u001b[0m         \u001b[0mpath\u001b[0m\u001b[0;34m.\u001b[0m\u001b[0mappend\u001b[0m\u001b[0;34m(\u001b[0m\u001b[0mcurrent_page\u001b[0m\u001b[0;34m.\u001b[0m\u001b[0mtitle\u001b[0m\u001b[0;34m)\u001b[0m\u001b[0;34m\u001b[0m\u001b[0;34m\u001b[0m\u001b[0m\n\u001b[1;32m      8\u001b[0m         \u001b[0mupdate_big_six_table\u001b[0m\u001b[0;34m(\u001b[0m\u001b[0mcurrent_page\u001b[0m\u001b[0;34m)\u001b[0m\u001b[0;34m\u001b[0m\u001b[0;34m\u001b[0m\u001b[0m\n\u001b[0;32m----> 9\u001b[0;31m         \u001b[0mupdate_paths_table\u001b[0m\u001b[0;34m(\u001b[0m\u001b[0minitial_page\u001b[0m\u001b[0;34m,\u001b[0m \u001b[0mcurrent_page\u001b[0m\u001b[0;34m)\u001b[0m\u001b[0;34m\u001b[0m\u001b[0;34m\u001b[0m\u001b[0m\n\u001b[0m\u001b[1;32m     10\u001b[0m         \u001b[0mprint\u001b[0m\u001b[0;34m(\u001b[0m\u001b[0mfirst_six_of_page_table\u001b[0m\u001b[0;34m)\u001b[0m\u001b[0;34m\u001b[0m\u001b[0;34m\u001b[0m\u001b[0m\n\u001b[1;32m     11\u001b[0m         \u001b[0;32mif\u001b[0m \u001b[0mcurrent_page\u001b[0m\u001b[0;34m.\u001b[0m\u001b[0mtitle\u001b[0m \u001b[0;32min\u001b[0m \u001b[0mfirst_six_of_page_table\u001b[0m\u001b[0;34m:\u001b[0m\u001b[0;34m\u001b[0m\u001b[0;34m\u001b[0m\u001b[0m\n",
            "\u001b[0;32m<ipython-input-559-682b01673283>\u001b[0m in \u001b[0;36mupdate_paths_table\u001b[0;34m(page, page_to_add)\u001b[0m\n\u001b[1;32m      3\u001b[0m   \u001b[0;32mif\u001b[0m \u001b[0mpaths_table\u001b[0m\u001b[0;34m.\u001b[0m\u001b[0m__contains__\u001b[0m\u001b[0;34m(\u001b[0m\u001b[0mpage_name\u001b[0m\u001b[0;34m)\u001b[0m \u001b[0;34m==\u001b[0m \u001b[0;32mFalse\u001b[0m\u001b[0;34m:\u001b[0m\u001b[0;34m\u001b[0m\u001b[0;34m\u001b[0m\u001b[0m\n\u001b[1;32m      4\u001b[0m     \u001b[0mpaths_table\u001b[0m\u001b[0;34m[\u001b[0m\u001b[0mpage_name\u001b[0m\u001b[0;34m]\u001b[0m \u001b[0;34m=\u001b[0m \u001b[0;34m[\u001b[0m\u001b[0;34m]\u001b[0m\u001b[0;34m\u001b[0m\u001b[0;34m\u001b[0m\u001b[0m\n\u001b[0;32m----> 5\u001b[0;31m   \u001b[0mfirst_six\u001b[0m \u001b[0;34m=\u001b[0m \u001b[0mget_first_six_links\u001b[0m\u001b[0;34m(\u001b[0m\u001b[0mpage_to_add\u001b[0m\u001b[0;34m.\u001b[0m\u001b[0mtitle\u001b[0m\u001b[0;34m)\u001b[0m\u001b[0;34m[\u001b[0m\u001b[0;34m:\u001b[0m\u001b[0;36m6\u001b[0m\u001b[0;34m]\u001b[0m\u001b[0;34m\u001b[0m\u001b[0;34m\u001b[0m\u001b[0m\n\u001b[0m\u001b[1;32m      6\u001b[0m   \u001b[0;32mif\u001b[0m \u001b[0mfirst_six\u001b[0m\u001b[0;34m:\u001b[0m\u001b[0;34m\u001b[0m\u001b[0;34m\u001b[0m\u001b[0m\n\u001b[1;32m      7\u001b[0m     \u001b[0mnext_page\u001b[0m \u001b[0;34m=\u001b[0m \u001b[0mfirst_six\u001b[0m\u001b[0;34m[\u001b[0m\u001b[0;36m0\u001b[0m\u001b[0;34m]\u001b[0m\u001b[0;34m\u001b[0m\u001b[0;34m\u001b[0m\u001b[0m\n",
            "\u001b[0;32m<ipython-input-416-b307b3ca7548>\u001b[0m in \u001b[0;36mget_first_six_links\u001b[0;34m(page_name)\u001b[0m\n\u001b[1;32m     11\u001b[0m         \u001b[0;34m\"section\"\u001b[0m\u001b[0;34m:\u001b[0m \u001b[0;36m0\u001b[0m\u001b[0;34m\u001b[0m\u001b[0;34m\u001b[0m\u001b[0m\n\u001b[1;32m     12\u001b[0m     }\n\u001b[0;32m---> 13\u001b[0;31m     \u001b[0mresponse\u001b[0m \u001b[0;34m=\u001b[0m \u001b[0mrequests\u001b[0m\u001b[0;34m.\u001b[0m\u001b[0mget\u001b[0m\u001b[0;34m(\u001b[0m\u001b[0murl\u001b[0m\u001b[0;34m,\u001b[0m \u001b[0mparams\u001b[0m\u001b[0;34m=\u001b[0m\u001b[0mparams\u001b[0m\u001b[0;34m)\u001b[0m\u001b[0;34m\u001b[0m\u001b[0;34m\u001b[0m\u001b[0m\n\u001b[0m\u001b[1;32m     14\u001b[0m     \u001b[0mdata\u001b[0m \u001b[0;34m=\u001b[0m \u001b[0mresponse\u001b[0m\u001b[0;34m.\u001b[0m\u001b[0mjson\u001b[0m\u001b[0;34m(\u001b[0m\u001b[0;34m)\u001b[0m\u001b[0;34m\u001b[0m\u001b[0;34m\u001b[0m\u001b[0m\n\u001b[1;32m     15\u001b[0m \u001b[0;34m\u001b[0m\u001b[0m\n",
            "\u001b[0;32m/usr/local/lib/python3.10/dist-packages/requests/api.py\u001b[0m in \u001b[0;36mget\u001b[0;34m(url, params, **kwargs)\u001b[0m\n\u001b[1;32m     71\u001b[0m     \"\"\"\n\u001b[1;32m     72\u001b[0m \u001b[0;34m\u001b[0m\u001b[0m\n\u001b[0;32m---> 73\u001b[0;31m     \u001b[0;32mreturn\u001b[0m \u001b[0mrequest\u001b[0m\u001b[0;34m(\u001b[0m\u001b[0;34m\"get\"\u001b[0m\u001b[0;34m,\u001b[0m \u001b[0murl\u001b[0m\u001b[0;34m,\u001b[0m \u001b[0mparams\u001b[0m\u001b[0;34m=\u001b[0m\u001b[0mparams\u001b[0m\u001b[0;34m,\u001b[0m \u001b[0;34m**\u001b[0m\u001b[0mkwargs\u001b[0m\u001b[0;34m)\u001b[0m\u001b[0;34m\u001b[0m\u001b[0;34m\u001b[0m\u001b[0m\n\u001b[0m\u001b[1;32m     74\u001b[0m \u001b[0;34m\u001b[0m\u001b[0m\n\u001b[1;32m     75\u001b[0m \u001b[0;34m\u001b[0m\u001b[0m\n",
            "\u001b[0;32m/usr/local/lib/python3.10/dist-packages/requests/api.py\u001b[0m in \u001b[0;36mrequest\u001b[0;34m(method, url, **kwargs)\u001b[0m\n\u001b[1;32m     57\u001b[0m     \u001b[0;31m# cases, and look like a memory leak in others.\u001b[0m\u001b[0;34m\u001b[0m\u001b[0;34m\u001b[0m\u001b[0m\n\u001b[1;32m     58\u001b[0m     \u001b[0;32mwith\u001b[0m \u001b[0msessions\u001b[0m\u001b[0;34m.\u001b[0m\u001b[0mSession\u001b[0m\u001b[0;34m(\u001b[0m\u001b[0;34m)\u001b[0m \u001b[0;32mas\u001b[0m \u001b[0msession\u001b[0m\u001b[0;34m:\u001b[0m\u001b[0;34m\u001b[0m\u001b[0;34m\u001b[0m\u001b[0m\n\u001b[0;32m---> 59\u001b[0;31m         \u001b[0;32mreturn\u001b[0m \u001b[0msession\u001b[0m\u001b[0;34m.\u001b[0m\u001b[0mrequest\u001b[0m\u001b[0;34m(\u001b[0m\u001b[0mmethod\u001b[0m\u001b[0;34m=\u001b[0m\u001b[0mmethod\u001b[0m\u001b[0;34m,\u001b[0m \u001b[0murl\u001b[0m\u001b[0;34m=\u001b[0m\u001b[0murl\u001b[0m\u001b[0;34m,\u001b[0m \u001b[0;34m**\u001b[0m\u001b[0mkwargs\u001b[0m\u001b[0;34m)\u001b[0m\u001b[0;34m\u001b[0m\u001b[0;34m\u001b[0m\u001b[0m\n\u001b[0m\u001b[1;32m     60\u001b[0m \u001b[0;34m\u001b[0m\u001b[0m\n\u001b[1;32m     61\u001b[0m \u001b[0;34m\u001b[0m\u001b[0m\n",
            "\u001b[0;32m/usr/local/lib/python3.10/dist-packages/requests/sessions.py\u001b[0m in \u001b[0;36mrequest\u001b[0;34m(self, method, url, params, data, headers, cookies, files, auth, timeout, allow_redirects, proxies, hooks, stream, verify, cert, json)\u001b[0m\n\u001b[1;32m    587\u001b[0m         }\n\u001b[1;32m    588\u001b[0m         \u001b[0msend_kwargs\u001b[0m\u001b[0;34m.\u001b[0m\u001b[0mupdate\u001b[0m\u001b[0;34m(\u001b[0m\u001b[0msettings\u001b[0m\u001b[0;34m)\u001b[0m\u001b[0;34m\u001b[0m\u001b[0;34m\u001b[0m\u001b[0m\n\u001b[0;32m--> 589\u001b[0;31m         \u001b[0mresp\u001b[0m \u001b[0;34m=\u001b[0m \u001b[0mself\u001b[0m\u001b[0;34m.\u001b[0m\u001b[0msend\u001b[0m\u001b[0;34m(\u001b[0m\u001b[0mprep\u001b[0m\u001b[0;34m,\u001b[0m \u001b[0;34m**\u001b[0m\u001b[0msend_kwargs\u001b[0m\u001b[0;34m)\u001b[0m\u001b[0;34m\u001b[0m\u001b[0;34m\u001b[0m\u001b[0m\n\u001b[0m\u001b[1;32m    590\u001b[0m \u001b[0;34m\u001b[0m\u001b[0m\n\u001b[1;32m    591\u001b[0m         \u001b[0;32mreturn\u001b[0m \u001b[0mresp\u001b[0m\u001b[0;34m\u001b[0m\u001b[0;34m\u001b[0m\u001b[0m\n",
            "\u001b[0;32m/usr/local/lib/python3.10/dist-packages/requests/sessions.py\u001b[0m in \u001b[0;36msend\u001b[0;34m(self, request, **kwargs)\u001b[0m\n\u001b[1;32m    701\u001b[0m \u001b[0;34m\u001b[0m\u001b[0m\n\u001b[1;32m    702\u001b[0m         \u001b[0;31m# Send the request\u001b[0m\u001b[0;34m\u001b[0m\u001b[0;34m\u001b[0m\u001b[0m\n\u001b[0;32m--> 703\u001b[0;31m         \u001b[0mr\u001b[0m \u001b[0;34m=\u001b[0m \u001b[0madapter\u001b[0m\u001b[0;34m.\u001b[0m\u001b[0msend\u001b[0m\u001b[0;34m(\u001b[0m\u001b[0mrequest\u001b[0m\u001b[0;34m,\u001b[0m \u001b[0;34m**\u001b[0m\u001b[0mkwargs\u001b[0m\u001b[0;34m)\u001b[0m\u001b[0;34m\u001b[0m\u001b[0;34m\u001b[0m\u001b[0m\n\u001b[0m\u001b[1;32m    704\u001b[0m \u001b[0;34m\u001b[0m\u001b[0m\n\u001b[1;32m    705\u001b[0m         \u001b[0;31m# Total elapsed time of the request (approximately)\u001b[0m\u001b[0;34m\u001b[0m\u001b[0;34m\u001b[0m\u001b[0m\n",
            "\u001b[0;32m/usr/local/lib/python3.10/dist-packages/requests/adapters.py\u001b[0m in \u001b[0;36msend\u001b[0;34m(self, request, stream, timeout, verify, cert, proxies)\u001b[0m\n\u001b[1;32m    665\u001b[0m \u001b[0;34m\u001b[0m\u001b[0m\n\u001b[1;32m    666\u001b[0m         \u001b[0;32mtry\u001b[0m\u001b[0;34m:\u001b[0m\u001b[0;34m\u001b[0m\u001b[0;34m\u001b[0m\u001b[0m\n\u001b[0;32m--> 667\u001b[0;31m             resp = conn.urlopen(\n\u001b[0m\u001b[1;32m    668\u001b[0m                 \u001b[0mmethod\u001b[0m\u001b[0;34m=\u001b[0m\u001b[0mrequest\u001b[0m\u001b[0;34m.\u001b[0m\u001b[0mmethod\u001b[0m\u001b[0;34m,\u001b[0m\u001b[0;34m\u001b[0m\u001b[0;34m\u001b[0m\u001b[0m\n\u001b[1;32m    669\u001b[0m                 \u001b[0murl\u001b[0m\u001b[0;34m=\u001b[0m\u001b[0murl\u001b[0m\u001b[0;34m,\u001b[0m\u001b[0;34m\u001b[0m\u001b[0;34m\u001b[0m\u001b[0m\n",
            "\u001b[0;32m/usr/local/lib/python3.10/dist-packages/urllib3/connectionpool.py\u001b[0m in \u001b[0;36murlopen\u001b[0;34m(self, method, url, body, headers, retries, redirect, assert_same_host, timeout, pool_timeout, release_conn, chunked, body_pos, preload_content, decode_content, **response_kw)\u001b[0m\n\u001b[1;32m    789\u001b[0m \u001b[0;34m\u001b[0m\u001b[0m\n\u001b[1;32m    790\u001b[0m             \u001b[0;31m# Make the request on the HTTPConnection object\u001b[0m\u001b[0;34m\u001b[0m\u001b[0;34m\u001b[0m\u001b[0m\n\u001b[0;32m--> 791\u001b[0;31m             response = self._make_request(\n\u001b[0m\u001b[1;32m    792\u001b[0m                 \u001b[0mconn\u001b[0m\u001b[0;34m,\u001b[0m\u001b[0;34m\u001b[0m\u001b[0;34m\u001b[0m\u001b[0m\n\u001b[1;32m    793\u001b[0m                 \u001b[0mmethod\u001b[0m\u001b[0;34m,\u001b[0m\u001b[0;34m\u001b[0m\u001b[0;34m\u001b[0m\u001b[0m\n",
            "\u001b[0;32m/usr/local/lib/python3.10/dist-packages/urllib3/connectionpool.py\u001b[0m in \u001b[0;36m_make_request\u001b[0;34m(self, conn, method, url, body, headers, retries, timeout, chunked, response_conn, preload_content, decode_content, enforce_content_length)\u001b[0m\n\u001b[1;32m    535\u001b[0m         \u001b[0;31m# Receive the response from the server\u001b[0m\u001b[0;34m\u001b[0m\u001b[0;34m\u001b[0m\u001b[0m\n\u001b[1;32m    536\u001b[0m         \u001b[0;32mtry\u001b[0m\u001b[0;34m:\u001b[0m\u001b[0;34m\u001b[0m\u001b[0;34m\u001b[0m\u001b[0m\n\u001b[0;32m--> 537\u001b[0;31m             \u001b[0mresponse\u001b[0m \u001b[0;34m=\u001b[0m \u001b[0mconn\u001b[0m\u001b[0;34m.\u001b[0m\u001b[0mgetresponse\u001b[0m\u001b[0;34m(\u001b[0m\u001b[0;34m)\u001b[0m\u001b[0;34m\u001b[0m\u001b[0;34m\u001b[0m\u001b[0m\n\u001b[0m\u001b[1;32m    538\u001b[0m         \u001b[0;32mexcept\u001b[0m \u001b[0;34m(\u001b[0m\u001b[0mBaseSSLError\u001b[0m\u001b[0;34m,\u001b[0m \u001b[0mOSError\u001b[0m\u001b[0;34m)\u001b[0m \u001b[0;32mas\u001b[0m \u001b[0me\u001b[0m\u001b[0;34m:\u001b[0m\u001b[0;34m\u001b[0m\u001b[0;34m\u001b[0m\u001b[0m\n\u001b[1;32m    539\u001b[0m             \u001b[0mself\u001b[0m\u001b[0;34m.\u001b[0m\u001b[0m_raise_timeout\u001b[0m\u001b[0;34m(\u001b[0m\u001b[0merr\u001b[0m\u001b[0;34m=\u001b[0m\u001b[0me\u001b[0m\u001b[0;34m,\u001b[0m \u001b[0murl\u001b[0m\u001b[0;34m=\u001b[0m\u001b[0murl\u001b[0m\u001b[0;34m,\u001b[0m \u001b[0mtimeout_value\u001b[0m\u001b[0;34m=\u001b[0m\u001b[0mread_timeout\u001b[0m\u001b[0;34m)\u001b[0m\u001b[0;34m\u001b[0m\u001b[0;34m\u001b[0m\u001b[0m\n",
            "\u001b[0;32m/usr/local/lib/python3.10/dist-packages/urllib3/connection.py\u001b[0m in \u001b[0;36mgetresponse\u001b[0;34m(self)\u001b[0m\n\u001b[1;32m    459\u001b[0m \u001b[0;34m\u001b[0m\u001b[0m\n\u001b[1;32m    460\u001b[0m         \u001b[0;31m# Get the response from http.client.HTTPConnection\u001b[0m\u001b[0;34m\u001b[0m\u001b[0;34m\u001b[0m\u001b[0m\n\u001b[0;32m--> 461\u001b[0;31m         \u001b[0mhttplib_response\u001b[0m \u001b[0;34m=\u001b[0m \u001b[0msuper\u001b[0m\u001b[0;34m(\u001b[0m\u001b[0;34m)\u001b[0m\u001b[0;34m.\u001b[0m\u001b[0mgetresponse\u001b[0m\u001b[0;34m(\u001b[0m\u001b[0;34m)\u001b[0m\u001b[0;34m\u001b[0m\u001b[0;34m\u001b[0m\u001b[0m\n\u001b[0m\u001b[1;32m    462\u001b[0m \u001b[0;34m\u001b[0m\u001b[0m\n\u001b[1;32m    463\u001b[0m         \u001b[0;32mtry\u001b[0m\u001b[0;34m:\u001b[0m\u001b[0;34m\u001b[0m\u001b[0;34m\u001b[0m\u001b[0m\n",
            "\u001b[0;32m/usr/lib/python3.10/http/client.py\u001b[0m in \u001b[0;36mgetresponse\u001b[0;34m(self)\u001b[0m\n\u001b[1;32m   1373\u001b[0m         \u001b[0;32mtry\u001b[0m\u001b[0;34m:\u001b[0m\u001b[0;34m\u001b[0m\u001b[0;34m\u001b[0m\u001b[0m\n\u001b[1;32m   1374\u001b[0m             \u001b[0;32mtry\u001b[0m\u001b[0;34m:\u001b[0m\u001b[0;34m\u001b[0m\u001b[0;34m\u001b[0m\u001b[0m\n\u001b[0;32m-> 1375\u001b[0;31m                 \u001b[0mresponse\u001b[0m\u001b[0;34m.\u001b[0m\u001b[0mbegin\u001b[0m\u001b[0;34m(\u001b[0m\u001b[0;34m)\u001b[0m\u001b[0;34m\u001b[0m\u001b[0;34m\u001b[0m\u001b[0m\n\u001b[0m\u001b[1;32m   1376\u001b[0m             \u001b[0;32mexcept\u001b[0m \u001b[0mConnectionError\u001b[0m\u001b[0;34m:\u001b[0m\u001b[0;34m\u001b[0m\u001b[0;34m\u001b[0m\u001b[0m\n\u001b[1;32m   1377\u001b[0m                 \u001b[0mself\u001b[0m\u001b[0;34m.\u001b[0m\u001b[0mclose\u001b[0m\u001b[0;34m(\u001b[0m\u001b[0;34m)\u001b[0m\u001b[0;34m\u001b[0m\u001b[0;34m\u001b[0m\u001b[0m\n",
            "\u001b[0;32m/usr/lib/python3.10/http/client.py\u001b[0m in \u001b[0;36mbegin\u001b[0;34m(self)\u001b[0m\n\u001b[1;32m    316\u001b[0m         \u001b[0;31m# read until we get a non-100 response\u001b[0m\u001b[0;34m\u001b[0m\u001b[0;34m\u001b[0m\u001b[0m\n\u001b[1;32m    317\u001b[0m         \u001b[0;32mwhile\u001b[0m \u001b[0;32mTrue\u001b[0m\u001b[0;34m:\u001b[0m\u001b[0;34m\u001b[0m\u001b[0;34m\u001b[0m\u001b[0m\n\u001b[0;32m--> 318\u001b[0;31m             \u001b[0mversion\u001b[0m\u001b[0;34m,\u001b[0m \u001b[0mstatus\u001b[0m\u001b[0;34m,\u001b[0m \u001b[0mreason\u001b[0m \u001b[0;34m=\u001b[0m \u001b[0mself\u001b[0m\u001b[0;34m.\u001b[0m\u001b[0m_read_status\u001b[0m\u001b[0;34m(\u001b[0m\u001b[0;34m)\u001b[0m\u001b[0;34m\u001b[0m\u001b[0;34m\u001b[0m\u001b[0m\n\u001b[0m\u001b[1;32m    319\u001b[0m             \u001b[0;32mif\u001b[0m \u001b[0mstatus\u001b[0m \u001b[0;34m!=\u001b[0m \u001b[0mCONTINUE\u001b[0m\u001b[0;34m:\u001b[0m\u001b[0;34m\u001b[0m\u001b[0;34m\u001b[0m\u001b[0m\n\u001b[1;32m    320\u001b[0m                 \u001b[0;32mbreak\u001b[0m\u001b[0;34m\u001b[0m\u001b[0;34m\u001b[0m\u001b[0m\n",
            "\u001b[0;32m/usr/lib/python3.10/http/client.py\u001b[0m in \u001b[0;36m_read_status\u001b[0;34m(self)\u001b[0m\n\u001b[1;32m    277\u001b[0m \u001b[0;34m\u001b[0m\u001b[0m\n\u001b[1;32m    278\u001b[0m     \u001b[0;32mdef\u001b[0m \u001b[0m_read_status\u001b[0m\u001b[0;34m(\u001b[0m\u001b[0mself\u001b[0m\u001b[0;34m)\u001b[0m\u001b[0;34m:\u001b[0m\u001b[0;34m\u001b[0m\u001b[0;34m\u001b[0m\u001b[0m\n\u001b[0;32m--> 279\u001b[0;31m         \u001b[0mline\u001b[0m \u001b[0;34m=\u001b[0m \u001b[0mstr\u001b[0m\u001b[0;34m(\u001b[0m\u001b[0mself\u001b[0m\u001b[0;34m.\u001b[0m\u001b[0mfp\u001b[0m\u001b[0;34m.\u001b[0m\u001b[0mreadline\u001b[0m\u001b[0;34m(\u001b[0m\u001b[0m_MAXLINE\u001b[0m \u001b[0;34m+\u001b[0m \u001b[0;36m1\u001b[0m\u001b[0;34m)\u001b[0m\u001b[0;34m,\u001b[0m \u001b[0;34m\"iso-8859-1\"\u001b[0m\u001b[0;34m)\u001b[0m\u001b[0;34m\u001b[0m\u001b[0;34m\u001b[0m\u001b[0m\n\u001b[0m\u001b[1;32m    280\u001b[0m         \u001b[0;32mif\u001b[0m \u001b[0mlen\u001b[0m\u001b[0;34m(\u001b[0m\u001b[0mline\u001b[0m\u001b[0;34m)\u001b[0m \u001b[0;34m>\u001b[0m \u001b[0m_MAXLINE\u001b[0m\u001b[0;34m:\u001b[0m\u001b[0;34m\u001b[0m\u001b[0;34m\u001b[0m\u001b[0m\n\u001b[1;32m    281\u001b[0m             \u001b[0;32mraise\u001b[0m \u001b[0mLineTooLong\u001b[0m\u001b[0;34m(\u001b[0m\u001b[0;34m\"status line\"\u001b[0m\u001b[0;34m)\u001b[0m\u001b[0;34m\u001b[0m\u001b[0;34m\u001b[0m\u001b[0m\n",
            "\u001b[0;32m/usr/lib/python3.10/socket.py\u001b[0m in \u001b[0;36mreadinto\u001b[0;34m(self, b)\u001b[0m\n\u001b[1;32m    703\u001b[0m         \u001b[0;32mwhile\u001b[0m \u001b[0;32mTrue\u001b[0m\u001b[0;34m:\u001b[0m\u001b[0;34m\u001b[0m\u001b[0;34m\u001b[0m\u001b[0m\n\u001b[1;32m    704\u001b[0m             \u001b[0;32mtry\u001b[0m\u001b[0;34m:\u001b[0m\u001b[0;34m\u001b[0m\u001b[0;34m\u001b[0m\u001b[0m\n\u001b[0;32m--> 705\u001b[0;31m                 \u001b[0;32mreturn\u001b[0m \u001b[0mself\u001b[0m\u001b[0;34m.\u001b[0m\u001b[0m_sock\u001b[0m\u001b[0;34m.\u001b[0m\u001b[0mrecv_into\u001b[0m\u001b[0;34m(\u001b[0m\u001b[0mb\u001b[0m\u001b[0;34m)\u001b[0m\u001b[0;34m\u001b[0m\u001b[0;34m\u001b[0m\u001b[0m\n\u001b[0m\u001b[1;32m    706\u001b[0m             \u001b[0;32mexcept\u001b[0m \u001b[0mtimeout\u001b[0m\u001b[0;34m:\u001b[0m\u001b[0;34m\u001b[0m\u001b[0;34m\u001b[0m\u001b[0m\n\u001b[1;32m    707\u001b[0m                 \u001b[0mself\u001b[0m\u001b[0;34m.\u001b[0m\u001b[0m_timeout_occurred\u001b[0m \u001b[0;34m=\u001b[0m \u001b[0;32mTrue\u001b[0m\u001b[0;34m\u001b[0m\u001b[0;34m\u001b[0m\u001b[0m\n",
            "\u001b[0;32m/usr/lib/python3.10/ssl.py\u001b[0m in \u001b[0;36mrecv_into\u001b[0;34m(self, buffer, nbytes, flags)\u001b[0m\n\u001b[1;32m   1301\u001b[0m                   \u001b[0;34m\"non-zero flags not allowed in calls to recv_into() on %s\"\u001b[0m \u001b[0;34m%\u001b[0m\u001b[0;34m\u001b[0m\u001b[0;34m\u001b[0m\u001b[0m\n\u001b[1;32m   1302\u001b[0m                   self.__class__)\n\u001b[0;32m-> 1303\u001b[0;31m             \u001b[0;32mreturn\u001b[0m \u001b[0mself\u001b[0m\u001b[0;34m.\u001b[0m\u001b[0mread\u001b[0m\u001b[0;34m(\u001b[0m\u001b[0mnbytes\u001b[0m\u001b[0;34m,\u001b[0m \u001b[0mbuffer\u001b[0m\u001b[0;34m)\u001b[0m\u001b[0;34m\u001b[0m\u001b[0;34m\u001b[0m\u001b[0m\n\u001b[0m\u001b[1;32m   1304\u001b[0m         \u001b[0;32melse\u001b[0m\u001b[0;34m:\u001b[0m\u001b[0;34m\u001b[0m\u001b[0;34m\u001b[0m\u001b[0m\n\u001b[1;32m   1305\u001b[0m             \u001b[0;32mreturn\u001b[0m \u001b[0msuper\u001b[0m\u001b[0;34m(\u001b[0m\u001b[0;34m)\u001b[0m\u001b[0;34m.\u001b[0m\u001b[0mrecv_into\u001b[0m\u001b[0;34m(\u001b[0m\u001b[0mbuffer\u001b[0m\u001b[0;34m,\u001b[0m \u001b[0mnbytes\u001b[0m\u001b[0;34m,\u001b[0m \u001b[0mflags\u001b[0m\u001b[0;34m)\u001b[0m\u001b[0;34m\u001b[0m\u001b[0;34m\u001b[0m\u001b[0m\n",
            "\u001b[0;32m/usr/lib/python3.10/ssl.py\u001b[0m in \u001b[0;36mread\u001b[0;34m(self, len, buffer)\u001b[0m\n\u001b[1;32m   1157\u001b[0m         \u001b[0;32mtry\u001b[0m\u001b[0;34m:\u001b[0m\u001b[0;34m\u001b[0m\u001b[0;34m\u001b[0m\u001b[0m\n\u001b[1;32m   1158\u001b[0m             \u001b[0;32mif\u001b[0m \u001b[0mbuffer\u001b[0m \u001b[0;32mis\u001b[0m \u001b[0;32mnot\u001b[0m \u001b[0;32mNone\u001b[0m\u001b[0;34m:\u001b[0m\u001b[0;34m\u001b[0m\u001b[0;34m\u001b[0m\u001b[0m\n\u001b[0;32m-> 1159\u001b[0;31m                 \u001b[0;32mreturn\u001b[0m \u001b[0mself\u001b[0m\u001b[0;34m.\u001b[0m\u001b[0m_sslobj\u001b[0m\u001b[0;34m.\u001b[0m\u001b[0mread\u001b[0m\u001b[0;34m(\u001b[0m\u001b[0mlen\u001b[0m\u001b[0;34m,\u001b[0m \u001b[0mbuffer\u001b[0m\u001b[0;34m)\u001b[0m\u001b[0;34m\u001b[0m\u001b[0;34m\u001b[0m\u001b[0m\n\u001b[0m\u001b[1;32m   1160\u001b[0m             \u001b[0;32melse\u001b[0m\u001b[0;34m:\u001b[0m\u001b[0;34m\u001b[0m\u001b[0;34m\u001b[0m\u001b[0m\n\u001b[1;32m   1161\u001b[0m                 \u001b[0;32mreturn\u001b[0m \u001b[0mself\u001b[0m\u001b[0;34m.\u001b[0m\u001b[0m_sslobj\u001b[0m\u001b[0;34m.\u001b[0m\u001b[0mread\u001b[0m\u001b[0;34m(\u001b[0m\u001b[0mlen\u001b[0m\u001b[0;34m)\u001b[0m\u001b[0;34m\u001b[0m\u001b[0;34m\u001b[0m\u001b[0m\n",
            "\u001b[0;31mKeyboardInterrupt\u001b[0m: "
          ]
        }
      ]
    },
    {
      "cell_type": "code",
      "source": [
        "def print_links(page):\n",
        "    page_name = page.title\n",
        "    links = get_first_six_links(page_name)\n",
        "    for title in links:\n",
        "        print(\"%s\"% (title))"
      ],
      "metadata": {
        "id": "5UBZBovqFfBH"
      },
      "execution_count": 475,
      "outputs": []
    },
    {
      "cell_type": "code",
      "source": [
        "# # garbage_links_table = []\n",
        "# # paths_table = SortedDict()\n",
        "# # first_six_of_page_table = SortedDict()\n",
        "# # big_six_table = SortedDict()\n",
        "# # page = wiki.page('Adolf Hitler')\n",
        "# # # links = page.links\n",
        "# # # links.values\n",
        "# # # #print(get_first_non_italic_link('Computer science'))\n",
        "# # # print(get_first_non_italic_link('Computation'))\n",
        "# # # page2 = wiki.page('Computation')\n",
        "# # page3 = wiki.page('iMac G3')\n",
        "# # find_path(page)\n",
        "print(paths_table)\n",
        "# print(first_six_of_page_table)\n",
        "# print(big_six_table)"
      ],
      "metadata": {
        "colab": {
          "base_uri": "https://localhost:8080/"
        },
        "id": "CO5uLgyDXnOJ",
        "outputId": "53350949-d99b-4cc6-f8dc-82c85c1ea2c8"
      },
      "execution_count": 565,
      "outputs": [
        {
          "output_type": "stream",
          "name": "stdout",
          "text": [
            "SortedDict({'/pol/': ['Political discussion'], '1776 Returns': ['Proud Boys', 'Far-right politics', 'Ultraconservatism', 'Conservative'], '1928 German federal election': []})\n"
          ]
        }
      ]
    }
  ]
}